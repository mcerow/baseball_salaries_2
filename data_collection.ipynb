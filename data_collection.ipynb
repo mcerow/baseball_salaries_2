{
 "cells": [
  {
   "cell_type": "markdown",
   "metadata": {},
   "source": [
    "# Predicting Baseball Salaries, Part II\n",
    "\n",
    "I previously worked on a simple regression model to predict baseball player salaries where I collected player team, position and salary for the 2019 season. It was a simple exercise in using decision trees and different ensemble methods to predict salaries, but I wanted to go back adn see if I included more stats, specifically the previous season's hitting statistics, could I get closer to predicting salary?\n",
    "\n",
    "My first step was to load in the libraries necessary and then my previously collected salary data from [USA Today](https://www.usatoday.com/sports/mlb/salaries/)."
   ]
  },
  {
   "cell_type": "code",
   "execution_count": 1,
   "metadata": {},
   "outputs": [],
   "source": [
    "import pandas as pd\n",
    "import numpy as np\n",
    "import requests\n",
    "from bs4 import BeautifulSoup\n",
    "import time"
   ]
  },
  {
   "cell_type": "code",
   "execution_count": 2,
   "metadata": {},
   "outputs": [],
   "source": [
    "pd.set_option('display.max_columns', None)"
   ]
  },
  {
   "cell_type": "code",
   "execution_count": 3,
   "metadata": {},
   "outputs": [],
   "source": [
    "salary = pd.read_pickle('salary_info')"
   ]
  },
  {
   "cell_type": "code",
   "execution_count": 4,
   "metadata": {},
   "outputs": [
    {
     "data": {
      "text/html": [
       "<div>\n",
       "<style scoped>\n",
       "    .dataframe tbody tr th:only-of-type {\n",
       "        vertical-align: middle;\n",
       "    }\n",
       "\n",
       "    .dataframe tbody tr th {\n",
       "        vertical-align: top;\n",
       "    }\n",
       "\n",
       "    .dataframe thead th {\n",
       "        text-align: right;\n",
       "    }\n",
       "</style>\n",
       "<table border=\"1\" class=\"dataframe\">\n",
       "  <thead>\n",
       "    <tr style=\"text-align: right;\">\n",
       "      <th></th>\n",
       "      <th>name</th>\n",
       "      <th>team</th>\n",
       "      <th>position</th>\n",
       "      <th>salary</th>\n",
       "    </tr>\n",
       "  </thead>\n",
       "  <tbody>\n",
       "    <tr>\n",
       "      <th>0</th>\n",
       "      <td>MaxScherzer</td>\n",
       "      <td>WSH</td>\n",
       "      <td>SP</td>\n",
       "      <td>42142857</td>\n",
       "    </tr>\n",
       "    <tr>\n",
       "      <th>1</th>\n",
       "      <td>StephenStrasburg</td>\n",
       "      <td>WSH</td>\n",
       "      <td>SP</td>\n",
       "      <td>36428571</td>\n",
       "    </tr>\n",
       "    <tr>\n",
       "      <th>2</th>\n",
       "      <td>MikeTrout</td>\n",
       "      <td>LAA</td>\n",
       "      <td>CF</td>\n",
       "      <td>34083333</td>\n",
       "    </tr>\n",
       "    <tr>\n",
       "      <th>3</th>\n",
       "      <td>ZackGreinke</td>\n",
       "      <td>ARI</td>\n",
       "      <td>SP</td>\n",
       "      <td>32421884</td>\n",
       "    </tr>\n",
       "    <tr>\n",
       "      <th>4</th>\n",
       "      <td>DavidPrice</td>\n",
       "      <td>BOS</td>\n",
       "      <td>SP</td>\n",
       "      <td>31000000</td>\n",
       "    </tr>\n",
       "  </tbody>\n",
       "</table>\n",
       "</div>"
      ],
      "text/plain": [
       "               name team position    salary\n",
       "0       MaxScherzer  WSH       SP  42142857\n",
       "1  StephenStrasburg  WSH       SP  36428571\n",
       "2         MikeTrout  LAA       CF  34083333\n",
       "3       ZackGreinke  ARI       SP  32421884\n",
       "4        DavidPrice  BOS       SP  31000000"
      ]
     },
     "execution_count": 4,
     "metadata": {},
     "output_type": "execute_result"
    }
   ],
   "source": [
    "salary.head()"
   ]
  },
  {
   "cell_type": "markdown",
   "metadata": {},
   "source": [
    "Now that I have those salaraies, I want to get the 2018 hitting stats. I'm going to collect my data from [MLB's site](https://www.mlb.com/stats/2018) for each player and then use BeautifulSoup to parse the HTML."
   ]
  },
  {
   "cell_type": "code",
   "execution_count": 5,
   "metadata": {},
   "outputs": [
    {
     "data": {
      "text/plain": [
       "<Response [200]>"
      ]
     },
     "execution_count": 5,
     "metadata": {},
     "output_type": "execute_result"
    }
   ],
   "source": [
    "url = 'https://www.mlb.com/stats/2018'\n",
    "html = requests.get(url)\n",
    "html"
   ]
  },
  {
   "cell_type": "code",
   "execution_count": 6,
   "metadata": {},
   "outputs": [],
   "source": [
    "soup = BeautifulSoup(html.content, 'html.parser')"
   ]
  },
  {
   "cell_type": "code",
   "execution_count": 126,
   "metadata": {},
   "outputs": [
    {
     "data": {
      "text/plain": [
       "<th class=\"pinned-col-3lxtuFnc col-group-start-sa9unvY0 number-aY5arzrB first-col-3aGPCzvr is-table-pinned-1WfPW2jT\" data-col=\"0\" data-row=\"0\" id=\"tb-1913-body-row0\" scope=\"row\"><div class=\"custom-cell-wrapper-34Cjf9P0\"><div class=\"index-3cdMSKi7\">1</div><div class=\"value-wrapper-1W5GYs5E\"><div class=\"top-wrapper-1NLTqKbE\"><div><a aria-label=\"Mike Trout\" class=\"bui-link\" href=\"/player/545361\"><span class=\"full-3fV3c9pF\">Mike</span><span class=\"short-3OJ0bTju\">M Trout</span><span class=\"full-3fV3c9pF\">Trout</span></a></div><div class=\"position-28TbwVOg\">CF</div></div></div></div><div class=\"placeholder-wrapper-bEG1UFFP\"><div class=\"index-3cdMSKi7\">1</div><div><span class=\"bui-skeleton\"><span class=\"skeleton-row-2cL12jX9\" style=\"background-color:#eee;background-image:linear-gradient(90deg, #eee, #F5F5F5, #eee);border-radius:50%;width:42px;height:42px\">‌</span></span></div><div class=\"placeholder-content-2l2UMerJ\"><div><span class=\"bui-skeleton\"><span class=\"skeleton-row-2cL12jX9\" style=\"background-color:#eee;background-image:linear-gradient(90deg, #eee, #F5F5F5, #eee);border-radius:4px;width:200px;height:16px\">‌</span></span></div><div><span class=\"bui-skeleton\"><span class=\"skeleton-row-2cL12jX9\" style=\"background-color:#eee;background-image:linear-gradient(90deg, #eee, #F5F5F5, #eee);border-radius:4px;width:100px;height:7px\">‌</span></span></div></div></div></th>"
      ]
     },
     "execution_count": 126,
     "metadata": {},
     "output_type": "execute_result"
    }
   ],
   "source": [
    "name_container = soup.find('th', {'data-row' : 0})\n",
    "name_container"
   ]
  },
  {
   "cell_type": "code",
   "execution_count": 128,
   "metadata": {},
   "outputs": [
    {
     "data": {
      "text/plain": [
       "[<span class=\"full-3fV3c9pF\">Mike</span>,\n",
       " <span class=\"full-3fV3c9pF\">Trout</span>]"
      ]
     },
     "execution_count": 128,
     "metadata": {},
     "output_type": "execute_result"
    }
   ],
   "source": [
    "names = name_container.findAll('span', class_ = 'full-3fV3c9pF')\n",
    "names"
   ]
  },
  {
   "cell_type": "code",
   "execution_count": 75,
   "metadata": {},
   "outputs": [
    {
     "name": "stdout",
     "output_type": "stream",
     "text": [
      "Mike\n",
      "Trout\n"
     ]
    }
   ],
   "source": [
    "for i in range(len(names)):\n",
    "    print(names[i].get_text())"
   ]
  },
  {
   "cell_type": "markdown",
   "metadata": {},
   "source": [
    "Get Name"
   ]
  },
  {
   "cell_type": "code",
   "execution_count": 82,
   "metadata": {},
   "outputs": [
    {
     "name": "stdout",
     "output_type": "stream",
     "text": [
      "Mike Trout\n"
     ]
    }
   ],
   "source": [
    "first = names[0].get_text()\n",
    "last = names[1].get_text()\n",
    "print(first, last)"
   ]
  },
  {
   "cell_type": "code",
   "execution_count": 131,
   "metadata": {},
   "outputs": [
    {
     "data": {
      "text/plain": [
       "'Mike Trout'"
      ]
     },
     "execution_count": 131,
     "metadata": {},
     "output_type": "execute_result"
    }
   ],
   "source": [
    "full_name = first + \" \" + last\n",
    "full_name"
   ]
  },
  {
   "cell_type": "markdown",
   "metadata": {},
   "source": [
    "Get Position"
   ]
  },
  {
   "cell_type": "code",
   "execution_count": 93,
   "metadata": {},
   "outputs": [
    {
     "data": {
      "text/plain": [
       "'CF'"
      ]
     },
     "execution_count": 93,
     "metadata": {},
     "output_type": "execute_result"
    }
   ],
   "source": [
    "name_container.find('div', class_ = 'position-28TbwVOg').get_text()"
   ]
  },
  {
   "cell_type": "markdown",
   "metadata": {},
   "source": [
    "Get Team"
   ]
  },
  {
   "cell_type": "code",
   "execution_count": 105,
   "metadata": {
    "scrolled": true
   },
   "outputs": [
    {
     "data": {
      "text/plain": [
       "'LAA'"
      ]
     },
     "execution_count": 105,
     "metadata": {},
     "output_type": "execute_result"
    }
   ],
   "source": [
    "soup.find('td', {'data-col': '1', 'data-row': '0'}).get_text()"
   ]
  },
  {
   "cell_type": "markdown",
   "metadata": {},
   "source": [
    "Get Games"
   ]
  },
  {
   "cell_type": "code",
   "execution_count": 106,
   "metadata": {},
   "outputs": [
    {
     "data": {
      "text/plain": [
       "'140'"
      ]
     },
     "execution_count": 106,
     "metadata": {},
     "output_type": "execute_result"
    }
   ],
   "source": [
    "soup.find('td', {'data-col': '2', 'data-row': '0'}).get_text()"
   ]
  },
  {
   "cell_type": "markdown",
   "metadata": {},
   "source": [
    "Get At Bats"
   ]
  },
  {
   "cell_type": "code",
   "execution_count": 107,
   "metadata": {},
   "outputs": [
    {
     "data": {
      "text/plain": [
       "'471'"
      ]
     },
     "execution_count": 107,
     "metadata": {},
     "output_type": "execute_result"
    }
   ],
   "source": [
    "soup.find('td', {'data-col': '3', 'data-row': '0'}).get_text()"
   ]
  },
  {
   "cell_type": "markdown",
   "metadata": {},
   "source": [
    "Get Runs"
   ]
  },
  {
   "cell_type": "code",
   "execution_count": 109,
   "metadata": {},
   "outputs": [
    {
     "data": {
      "text/plain": [
       "'101'"
      ]
     },
     "execution_count": 109,
     "metadata": {},
     "output_type": "execute_result"
    }
   ],
   "source": [
    "soup.find('td', {'data-col': '4', 'data-row': '0'}).get_text()"
   ]
  },
  {
   "cell_type": "markdown",
   "metadata": {},
   "source": [
    "Get Hits"
   ]
  },
  {
   "cell_type": "code",
   "execution_count": 111,
   "metadata": {},
   "outputs": [
    {
     "data": {
      "text/plain": [
       "'147'"
      ]
     },
     "execution_count": 111,
     "metadata": {},
     "output_type": "execute_result"
    }
   ],
   "source": [
    "soup.find('td', {'data-col': '5', 'data-row': '0'}).get_text()"
   ]
  },
  {
   "cell_type": "markdown",
   "metadata": {},
   "source": [
    "Get Doubles"
   ]
  },
  {
   "cell_type": "code",
   "execution_count": 113,
   "metadata": {},
   "outputs": [
    {
     "data": {
      "text/plain": [
       "'24'"
      ]
     },
     "execution_count": 113,
     "metadata": {},
     "output_type": "execute_result"
    }
   ],
   "source": [
    "soup.find('td', {'data-col': '6', 'data-row': '0'}).get_text()"
   ]
  },
  {
   "cell_type": "markdown",
   "metadata": {},
   "source": [
    "Get Triples"
   ]
  },
  {
   "cell_type": "code",
   "execution_count": 114,
   "metadata": {},
   "outputs": [
    {
     "data": {
      "text/plain": [
       "'4'"
      ]
     },
     "execution_count": 114,
     "metadata": {},
     "output_type": "execute_result"
    }
   ],
   "source": [
    "soup.find('td', {'data-col': '7', 'data-row': '0'}).get_text()"
   ]
  },
  {
   "cell_type": "markdown",
   "metadata": {},
   "source": [
    "Get Homeruns"
   ]
  },
  {
   "cell_type": "code",
   "execution_count": 115,
   "metadata": {},
   "outputs": [
    {
     "data": {
      "text/plain": [
       "'39'"
      ]
     },
     "execution_count": 115,
     "metadata": {},
     "output_type": "execute_result"
    }
   ],
   "source": [
    "soup.find('td', {'data-col': '8', 'data-row': '0'}).get_text()"
   ]
  },
  {
   "cell_type": "markdown",
   "metadata": {},
   "source": [
    "Get RBIs"
   ]
  },
  {
   "cell_type": "code",
   "execution_count": 116,
   "metadata": {},
   "outputs": [
    {
     "data": {
      "text/plain": [
       "'79'"
      ]
     },
     "execution_count": 116,
     "metadata": {},
     "output_type": "execute_result"
    }
   ],
   "source": [
    "soup.find('td', {'data-col': '9', 'data-row': '0'}).get_text()"
   ]
  },
  {
   "cell_type": "markdown",
   "metadata": {},
   "source": [
    "Get Walks"
   ]
  },
  {
   "cell_type": "code",
   "execution_count": 117,
   "metadata": {},
   "outputs": [
    {
     "data": {
      "text/plain": [
       "'122'"
      ]
     },
     "execution_count": 117,
     "metadata": {},
     "output_type": "execute_result"
    }
   ],
   "source": [
    "soup.find('td', {'data-col': '10', 'data-row': '0'}).get_text()"
   ]
  },
  {
   "cell_type": "markdown",
   "metadata": {},
   "source": [
    "Get Strikeouts"
   ]
  },
  {
   "cell_type": "code",
   "execution_count": 118,
   "metadata": {},
   "outputs": [
    {
     "data": {
      "text/plain": [
       "'124'"
      ]
     },
     "execution_count": 118,
     "metadata": {},
     "output_type": "execute_result"
    }
   ],
   "source": [
    "soup.find('td', {'data-col': '11', 'data-row': '0'}).get_text()"
   ]
  },
  {
   "cell_type": "markdown",
   "metadata": {},
   "source": [
    "Get Stolen Bases"
   ]
  },
  {
   "cell_type": "code",
   "execution_count": 119,
   "metadata": {},
   "outputs": [
    {
     "data": {
      "text/plain": [
       "'24'"
      ]
     },
     "execution_count": 119,
     "metadata": {},
     "output_type": "execute_result"
    }
   ],
   "source": [
    "soup.find('td', {'data-col': '12', 'data-row': '0'}).get_text()"
   ]
  },
  {
   "cell_type": "markdown",
   "metadata": {},
   "source": [
    "Get Caught Stealing"
   ]
  },
  {
   "cell_type": "code",
   "execution_count": 120,
   "metadata": {},
   "outputs": [
    {
     "data": {
      "text/plain": [
       "'2'"
      ]
     },
     "execution_count": 120,
     "metadata": {},
     "output_type": "execute_result"
    }
   ],
   "source": [
    "soup.find('td', {'data-col': '13', 'data-row': '0'}).get_text()"
   ]
  },
  {
   "cell_type": "markdown",
   "metadata": {},
   "source": [
    "Get Batting Average"
   ]
  },
  {
   "cell_type": "code",
   "execution_count": 121,
   "metadata": {},
   "outputs": [
    {
     "data": {
      "text/plain": [
       "'.312'"
      ]
     },
     "execution_count": 121,
     "metadata": {},
     "output_type": "execute_result"
    }
   ],
   "source": [
    "soup.find('td', {'data-col': '14', 'data-row': '0'}).get_text()"
   ]
  },
  {
   "cell_type": "markdown",
   "metadata": {},
   "source": [
    "Get On Base Percentage"
   ]
  },
  {
   "cell_type": "code",
   "execution_count": 122,
   "metadata": {},
   "outputs": [
    {
     "data": {
      "text/plain": [
       "'.460'"
      ]
     },
     "execution_count": 122,
     "metadata": {},
     "output_type": "execute_result"
    }
   ],
   "source": [
    "soup.find('td', {'data-col': '15', 'data-row': '0'}).get_text()"
   ]
  },
  {
   "cell_type": "markdown",
   "metadata": {},
   "source": [
    "Get Slugging Percentage"
   ]
  },
  {
   "cell_type": "code",
   "execution_count": 123,
   "metadata": {},
   "outputs": [
    {
     "data": {
      "text/plain": [
       "'.628'"
      ]
     },
     "execution_count": 123,
     "metadata": {},
     "output_type": "execute_result"
    }
   ],
   "source": [
    "soup.find('td', {'data-col': '16', 'data-row': '0'}).get_text()"
   ]
  },
  {
   "cell_type": "markdown",
   "metadata": {},
   "source": [
    "Get On Base Plus Slugging Percentage"
   ]
  },
  {
   "cell_type": "code",
   "execution_count": 124,
   "metadata": {},
   "outputs": [
    {
     "data": {
      "text/plain": [
       "'1.088'"
      ]
     },
     "execution_count": 124,
     "metadata": {},
     "output_type": "execute_result"
    }
   ],
   "source": [
    "soup.find('td', {'data-col': '17', 'data-row': '0'}).get_text()"
   ]
  },
  {
   "cell_type": "code",
   "execution_count": 60,
   "metadata": {},
   "outputs": [
    {
     "data": {
      "text/html": [
       "<div>\n",
       "<style scoped>\n",
       "    .dataframe tbody tr th:only-of-type {\n",
       "        vertical-align: middle;\n",
       "    }\n",
       "\n",
       "    .dataframe tbody tr th {\n",
       "        vertical-align: top;\n",
       "    }\n",
       "\n",
       "    .dataframe thead th {\n",
       "        text-align: right;\n",
       "    }\n",
       "</style>\n",
       "<table border=\"1\" class=\"dataframe\">\n",
       "  <thead>\n",
       "    <tr style=\"text-align: right;\">\n",
       "      <th></th>\n",
       "      <th>FirstName</th>\n",
       "      <th>LastName</th>\n",
       "      <th>FullName</th>\n",
       "      <th>Position</th>\n",
       "      <th>Team</th>\n",
       "      <th>Games</th>\n",
       "      <th>At_Bats</th>\n",
       "      <th>Runs</th>\n",
       "      <th>Hits</th>\n",
       "      <th>Doubles</th>\n",
       "      <th>...</th>\n",
       "      <th>Homeruns</th>\n",
       "      <th>RBIs</th>\n",
       "      <th>Walks</th>\n",
       "      <th>Strikeouts</th>\n",
       "      <th>StolenBases</th>\n",
       "      <th>CaughtStealing</th>\n",
       "      <th>BattingAverage</th>\n",
       "      <th>OnBasePercentage</th>\n",
       "      <th>SluggingPercentage</th>\n",
       "      <th>OnBaseSluggingPercent</th>\n",
       "    </tr>\n",
       "  </thead>\n",
       "  <tbody>\n",
       "  </tbody>\n",
       "</table>\n",
       "<p>0 rows × 21 columns</p>\n",
       "</div>"
      ],
      "text/plain": [
       "Empty DataFrame\n",
       "Columns: [FirstName, LastName, FullName, Position, Team, Games, At_Bats, Runs, Hits, Doubles, Triples, Homeruns, RBIs, Walks, Strikeouts, StolenBases, CaughtStealing, BattingAverage, OnBasePercentage, SluggingPercentage, OnBaseSluggingPercent]\n",
       "Index: []\n",
       "\n",
       "[0 rows x 21 columns]"
      ]
     },
     "execution_count": 60,
     "metadata": {},
     "output_type": "execute_result"
    }
   ],
   "source": [
    "df = pd.DataFrame(columns = ['FirstName', 'LastName', 'FullName', 'Position', 'Team', 'Games', 'At_Bats', 'Runs', \n",
    "                             'Hits', 'Doubles', 'Triples', 'Homeruns', 'RBIs', 'Walks', 'Strikeouts', 'StolenBases', \n",
    "                            'CaughtStealing', 'BattingAverage', 'OnBasePercentage', 'SluggingPercentage', \n",
    "                            'OnBaseSluggingPercent'])\n",
    "df"
   ]
  },
  {
   "cell_type": "code",
   "execution_count": 53,
   "metadata": {},
   "outputs": [],
   "source": [
    "def get_first_name(soup, data_row):\n",
    "    container = soup.find('th', {'data-row' : data_row})\n",
    "    names = container.findAll('span', class_ = 'full-3fV3c9pF')\n",
    "    first_name = names[0].get_text()\n",
    "    last_name = names[1].get_text()\n",
    "    full_name = first_name + ' ' + last_name\n",
    "    return first_name, last_name, full_name"
   ]
  },
  {
   "cell_type": "code",
   "execution_count": 32,
   "metadata": {},
   "outputs": [],
   "source": [
    "def get_position(soup, data_row):\n",
    "    container = soup.find('th', {'data-row' : data_row})\n",
    "    position = container.find('div', class_ = 'position-28TbwVOg').get_text()\n",
    "    return position"
   ]
  },
  {
   "cell_type": "code",
   "execution_count": 33,
   "metadata": {},
   "outputs": [],
   "source": [
    "def get_team(soup, data_row):\n",
    "    team = soup.find('td', {'data-col': '1', 'data-row': data_row}).get_text()\n",
    "    return team"
   ]
  },
  {
   "cell_type": "code",
   "execution_count": 34,
   "metadata": {},
   "outputs": [],
   "source": [
    "def get_games(soup, data_row):\n",
    "    games = soup.find('td', {'data-col': '2', 'data-row': data_row}).get_text()\n",
    "    return games"
   ]
  },
  {
   "cell_type": "code",
   "execution_count": 35,
   "metadata": {},
   "outputs": [],
   "source": [
    "def get_atbats(soup, data_row):\n",
    "    at_bats = soup.find('td', {'data-col': '3', 'data-row': data_row}).get_text()\n",
    "    return at_bats"
   ]
  },
  {
   "cell_type": "code",
   "execution_count": 36,
   "metadata": {},
   "outputs": [],
   "source": [
    "def get_runs(soup, data_row):\n",
    "    runs = soup.find('td', {'data-col': '4', 'data-row': data_row}).get_text()\n",
    "    return runs"
   ]
  },
  {
   "cell_type": "code",
   "execution_count": 37,
   "metadata": {},
   "outputs": [],
   "source": [
    "def get_hits(soup, data_row):\n",
    "    hits = soup.find('td', {'data-col': '5', 'data-row': data_row}).get_text()\n",
    "    return hits"
   ]
  },
  {
   "cell_type": "code",
   "execution_count": 38,
   "metadata": {},
   "outputs": [],
   "source": [
    "def get_doubles(soup, data_row):\n",
    "    doubles = soup.find('td', {'data-col': '6', 'data-row': data_row}).get_text()\n",
    "    return doubles"
   ]
  },
  {
   "cell_type": "code",
   "execution_count": 39,
   "metadata": {},
   "outputs": [],
   "source": [
    "def get_triples(soup, data_row):\n",
    "    triples = soup.find('td', {'data-col': '7', 'data-row': data_row}).get_text()\n",
    "    return triples"
   ]
  },
  {
   "cell_type": "code",
   "execution_count": 40,
   "metadata": {},
   "outputs": [],
   "source": [
    "def get_homeruns(soup, data_row):\n",
    "    homeruns = soup.find('td', {'data-col': '8', 'data-row': data_row}).get_text()\n",
    "    return homeruns"
   ]
  },
  {
   "cell_type": "code",
   "execution_count": 41,
   "metadata": {},
   "outputs": [],
   "source": [
    "def get_rbis(soup, data_row):\n",
    "    rbis = soup.find('td', {'data-col': '9', 'data-row': data_row}).get_text()\n",
    "    return rbis"
   ]
  },
  {
   "cell_type": "code",
   "execution_count": 42,
   "metadata": {},
   "outputs": [],
   "source": [
    "def get_walks(soup, data_row):\n",
    "    walks = soup.find('td', {'data-col': '10', 'data-row': data_row}).get_text()\n",
    "    return walks"
   ]
  },
  {
   "cell_type": "code",
   "execution_count": 43,
   "metadata": {},
   "outputs": [],
   "source": [
    "def get_strikeouts(soup, data_row):\n",
    "    strikeouts = soup.find('td', {'data-col': '11', 'data-row': data_row}).get_text()\n",
    "    return strikeouts"
   ]
  },
  {
   "cell_type": "code",
   "execution_count": 44,
   "metadata": {},
   "outputs": [],
   "source": [
    "def get_stolenbases(soup, data_row):\n",
    "    stolenbases = soup.find('td', {'data-col': '12', 'data-row': data_row}).get_text()\n",
    "    return stolenbases"
   ]
  },
  {
   "cell_type": "code",
   "execution_count": 45,
   "metadata": {},
   "outputs": [],
   "source": [
    "def get_caughtstealing(soup, data_row):\n",
    "    caughtstealing = soup.find('td', {'data-col': '13', 'data-row': data_row}).get_text()\n",
    "    return caughtstealing"
   ]
  },
  {
   "cell_type": "code",
   "execution_count": 46,
   "metadata": {},
   "outputs": [],
   "source": [
    "def get_battingavg(soup, data_row):\n",
    "    battingavg = soup.find('td', {'data-col': '14', 'data-row': data_row}).get_text()\n",
    "    return battingavg"
   ]
  },
  {
   "cell_type": "code",
   "execution_count": 47,
   "metadata": {},
   "outputs": [],
   "source": [
    "def get_onbasepercent(soup, data_row):\n",
    "    onbasepercent = soup.find('td', {'data-col': '15', 'data-row': data_row}).get_text()\n",
    "    return onbasepercent"
   ]
  },
  {
   "cell_type": "code",
   "execution_count": 48,
   "metadata": {},
   "outputs": [],
   "source": [
    "def get_sluggingpercent(soup, data_row):\n",
    "    sluggingpercent = soup.find('td', {'data-col': '16', 'data-row': data_row}).get_text()\n",
    "    return sluggingpercent"
   ]
  },
  {
   "cell_type": "code",
   "execution_count": 49,
   "metadata": {},
   "outputs": [],
   "source": [
    "def get_onbaseslugging(soup, data_row):\n",
    "    onbaseslugging = soup.find('td', {'data-col': '17', 'data-row': data_row}).get_text()\n",
    "    return onbaseslugging"
   ]
  },
  {
   "cell_type": "code",
   "execution_count": 61,
   "metadata": {},
   "outputs": [],
   "source": [
    "players_on_page = range(25)\n",
    "\n",
    "def get_contents(webpage):\n",
    "    html = requests.get(webpage)\n",
    "    soup = BeautifulSoup(html.content, 'html.parser')\n",
    "    \n",
    "    for i in players_on_page:\n",
    "        try:\n",
    "            first_name, last_name, full_name = get_first_name(soup, i)\n",
    "            position = get_position(soup, i)\n",
    "            team = get_team(soup, i)\n",
    "            games = get_games(soup, i)\n",
    "            at_bats = get_atbats(soup, i)\n",
    "            runs = get_runs(soup, i)\n",
    "            hits = get_hits(soup, i)\n",
    "            doubles = get_doubles(soup, i)\n",
    "            triples = get_triples(soup, i)\n",
    "            homeruns = get_homeruns(soup, i)\n",
    "            rbis = get_rbis(soup, i)\n",
    "            walks = get_walks(soup, i)\n",
    "            strikeouts = get_strikeouts(soup, i)\n",
    "            stolenbases = get_stolenbases(soup, i)\n",
    "            caughtstealing = get_caughtstealing(soup, i)\n",
    "            battingavg = get_battingavg(soup, i)\n",
    "            onbasepercent = get_onbasepercent(soup, i)\n",
    "            slugging = get_sluggingpercent(soup, i)\n",
    "            onbaseslug = get_onbaseslugging(soup, i)\n",
    "        \n",
    "            global df\n",
    "            df = df.append({'FirstName': first_name, \n",
    "                           'LastName': last_name,\n",
    "                           'FullName': full_name, \n",
    "                           'Position': position, \n",
    "                           'Team': team,\n",
    "                           'Games': games,\n",
    "                           'At_Bats': at_bats,\n",
    "                           'Runs': runs,\n",
    "                           'Hits': hits,\n",
    "                           'Doubles': doubles,\n",
    "                           'Triples': triples,\n",
    "                           'Homeruns': homeruns,\n",
    "                           'RBIs': rbis,\n",
    "                           'Walks': walks,\n",
    "                           'Strikeouts': strikeouts,\n",
    "                           'StolenBases': stolenbases,\n",
    "                           'CaughStealing': caughtstealing,\n",
    "                           'BattingAverage': battingavg,\n",
    "                           'OnBasePercentage': onbasepercent,\n",
    "                           'SluggingPercentage': slugging,\n",
    "                           'OnBaseSluggingPercent': onbaseslug}, ignore_index=True)\n",
    "            \n",
    "        except AtrributeError:\n",
    "            continue"
   ]
  },
  {
   "cell_type": "code",
   "execution_count": 62,
   "metadata": {},
   "outputs": [],
   "source": [
    "first_url = 'https://www.mlb.com/stats/2018?playerPool=ALL'"
   ]
  },
  {
   "cell_type": "code",
   "execution_count": 63,
   "metadata": {},
   "outputs": [],
   "source": [
    "get_contents(first_url)"
   ]
  },
  {
   "cell_type": "code",
   "execution_count": 64,
   "metadata": {},
   "outputs": [
    {
     "data": {
      "text/html": [
       "<div>\n",
       "<style scoped>\n",
       "    .dataframe tbody tr th:only-of-type {\n",
       "        vertical-align: middle;\n",
       "    }\n",
       "\n",
       "    .dataframe tbody tr th {\n",
       "        vertical-align: top;\n",
       "    }\n",
       "\n",
       "    .dataframe thead th {\n",
       "        text-align: right;\n",
       "    }\n",
       "</style>\n",
       "<table border=\"1\" class=\"dataframe\">\n",
       "  <thead>\n",
       "    <tr style=\"text-align: right;\">\n",
       "      <th></th>\n",
       "      <th>FirstName</th>\n",
       "      <th>LastName</th>\n",
       "      <th>FullName</th>\n",
       "      <th>Position</th>\n",
       "      <th>Team</th>\n",
       "      <th>Games</th>\n",
       "      <th>At_Bats</th>\n",
       "      <th>Runs</th>\n",
       "      <th>Hits</th>\n",
       "      <th>Doubles</th>\n",
       "      <th>...</th>\n",
       "      <th>RBIs</th>\n",
       "      <th>Walks</th>\n",
       "      <th>Strikeouts</th>\n",
       "      <th>StolenBases</th>\n",
       "      <th>CaughtStealing</th>\n",
       "      <th>BattingAverage</th>\n",
       "      <th>OnBasePercentage</th>\n",
       "      <th>SluggingPercentage</th>\n",
       "      <th>OnBaseSluggingPercent</th>\n",
       "      <th>CaughStealing</th>\n",
       "    </tr>\n",
       "  </thead>\n",
       "  <tbody>\n",
       "    <tr>\n",
       "      <th>0</th>\n",
       "      <td>Enny</td>\n",
       "      <td>Romero</td>\n",
       "      <td>Enny Romero</td>\n",
       "      <td>P</td>\n",
       "      <td>KC</td>\n",
       "      <td>4</td>\n",
       "      <td>1</td>\n",
       "      <td>1</td>\n",
       "      <td>1</td>\n",
       "      <td>1</td>\n",
       "      <td>...</td>\n",
       "      <td>0</td>\n",
       "      <td>0</td>\n",
       "      <td>0</td>\n",
       "      <td>0</td>\n",
       "      <td>NaN</td>\n",
       "      <td>1.000</td>\n",
       "      <td>1.000</td>\n",
       "      <td>2.000</td>\n",
       "      <td>3.000</td>\n",
       "      <td>0</td>\n",
       "    </tr>\n",
       "    <tr>\n",
       "      <th>1</th>\n",
       "      <td>Kolby</td>\n",
       "      <td>Allard</td>\n",
       "      <td>Kolby Allard</td>\n",
       "      <td>P</td>\n",
       "      <td>ATL</td>\n",
       "      <td>3</td>\n",
       "      <td>1</td>\n",
       "      <td>1</td>\n",
       "      <td>1</td>\n",
       "      <td>0</td>\n",
       "      <td>...</td>\n",
       "      <td>0</td>\n",
       "      <td>0</td>\n",
       "      <td>0</td>\n",
       "      <td>0</td>\n",
       "      <td>NaN</td>\n",
       "      <td>1.000</td>\n",
       "      <td>1.000</td>\n",
       "      <td>1.000</td>\n",
       "      <td>2.000</td>\n",
       "      <td>0</td>\n",
       "    </tr>\n",
       "    <tr>\n",
       "      <th>2</th>\n",
       "      <td>Kyle</td>\n",
       "      <td>Gibson</td>\n",
       "      <td>Kyle Gibson</td>\n",
       "      <td>P</td>\n",
       "      <td>MIN</td>\n",
       "      <td>1</td>\n",
       "      <td>2</td>\n",
       "      <td>2</td>\n",
       "      <td>2</td>\n",
       "      <td>0</td>\n",
       "      <td>...</td>\n",
       "      <td>0</td>\n",
       "      <td>0</td>\n",
       "      <td>0</td>\n",
       "      <td>0</td>\n",
       "      <td>NaN</td>\n",
       "      <td>1.000</td>\n",
       "      <td>1.000</td>\n",
       "      <td>1.000</td>\n",
       "      <td>2.000</td>\n",
       "      <td>0</td>\n",
       "    </tr>\n",
       "    <tr>\n",
       "      <th>3</th>\n",
       "      <td>Derek</td>\n",
       "      <td>Law</td>\n",
       "      <td>Derek Law</td>\n",
       "      <td>P</td>\n",
       "      <td>SF</td>\n",
       "      <td>7</td>\n",
       "      <td>1</td>\n",
       "      <td>1</td>\n",
       "      <td>1</td>\n",
       "      <td>0</td>\n",
       "      <td>...</td>\n",
       "      <td>0</td>\n",
       "      <td>0</td>\n",
       "      <td>0</td>\n",
       "      <td>0</td>\n",
       "      <td>NaN</td>\n",
       "      <td>1.000</td>\n",
       "      <td>1.000</td>\n",
       "      <td>1.000</td>\n",
       "      <td>2.000</td>\n",
       "      <td>0</td>\n",
       "    </tr>\n",
       "    <tr>\n",
       "      <th>4</th>\n",
       "      <td>Vidal</td>\n",
       "      <td>Nuno</td>\n",
       "      <td>Vidal Nuno</td>\n",
       "      <td>P</td>\n",
       "      <td>TB</td>\n",
       "      <td>1</td>\n",
       "      <td>2</td>\n",
       "      <td>0</td>\n",
       "      <td>2</td>\n",
       "      <td>0</td>\n",
       "      <td>...</td>\n",
       "      <td>1</td>\n",
       "      <td>0</td>\n",
       "      <td>0</td>\n",
       "      <td>0</td>\n",
       "      <td>NaN</td>\n",
       "      <td>1.000</td>\n",
       "      <td>1.000</td>\n",
       "      <td>1.000</td>\n",
       "      <td>2.000</td>\n",
       "      <td>0</td>\n",
       "    </tr>\n",
       "    <tr>\n",
       "      <th>5</th>\n",
       "      <td>Randy</td>\n",
       "      <td>Rosario</td>\n",
       "      <td>Randy Rosario</td>\n",
       "      <td>P</td>\n",
       "      <td>CHC</td>\n",
       "      <td>43</td>\n",
       "      <td>1</td>\n",
       "      <td>1</td>\n",
       "      <td>1</td>\n",
       "      <td>0</td>\n",
       "      <td>...</td>\n",
       "      <td>1</td>\n",
       "      <td>1</td>\n",
       "      <td>0</td>\n",
       "      <td>0</td>\n",
       "      <td>NaN</td>\n",
       "      <td>1.000</td>\n",
       "      <td>1.000</td>\n",
       "      <td>1.000</td>\n",
       "      <td>2.000</td>\n",
       "      <td>0</td>\n",
       "    </tr>\n",
       "    <tr>\n",
       "      <th>6</th>\n",
       "      <td>Chad</td>\n",
       "      <td>Sobotka</td>\n",
       "      <td>Chad Sobotka</td>\n",
       "      <td>P</td>\n",
       "      <td>ATL</td>\n",
       "      <td>14</td>\n",
       "      <td>1</td>\n",
       "      <td>0</td>\n",
       "      <td>1</td>\n",
       "      <td>0</td>\n",
       "      <td>...</td>\n",
       "      <td>0</td>\n",
       "      <td>0</td>\n",
       "      <td>0</td>\n",
       "      <td>0</td>\n",
       "      <td>NaN</td>\n",
       "      <td>1.000</td>\n",
       "      <td>1.000</td>\n",
       "      <td>1.000</td>\n",
       "      <td>2.000</td>\n",
       "      <td>0</td>\n",
       "    </tr>\n",
       "    <tr>\n",
       "      <th>7</th>\n",
       "      <td>A.J.</td>\n",
       "      <td>Cole</td>\n",
       "      <td>A.J. Cole</td>\n",
       "      <td>P</td>\n",
       "      <td>NYY</td>\n",
       "      <td>6</td>\n",
       "      <td>3</td>\n",
       "      <td>1</td>\n",
       "      <td>1</td>\n",
       "      <td>0</td>\n",
       "      <td>...</td>\n",
       "      <td>1</td>\n",
       "      <td>0</td>\n",
       "      <td>1</td>\n",
       "      <td>0</td>\n",
       "      <td>NaN</td>\n",
       "      <td>.333</td>\n",
       "      <td>.333</td>\n",
       "      <td>1.333</td>\n",
       "      <td>1.667</td>\n",
       "      <td>0</td>\n",
       "    </tr>\n",
       "    <tr>\n",
       "      <th>8</th>\n",
       "      <td>Dan</td>\n",
       "      <td>Jennings</td>\n",
       "      <td>Dan Jennings</td>\n",
       "      <td>P</td>\n",
       "      <td>MIL</td>\n",
       "      <td>65</td>\n",
       "      <td>3</td>\n",
       "      <td>1</td>\n",
       "      <td>2</td>\n",
       "      <td>1</td>\n",
       "      <td>...</td>\n",
       "      <td>0</td>\n",
       "      <td>0</td>\n",
       "      <td>1</td>\n",
       "      <td>0</td>\n",
       "      <td>NaN</td>\n",
       "      <td>.667</td>\n",
       "      <td>.667</td>\n",
       "      <td>1.000</td>\n",
       "      <td>1.667</td>\n",
       "      <td>0</td>\n",
       "    </tr>\n",
       "    <tr>\n",
       "      <th>9</th>\n",
       "      <td>Jesse</td>\n",
       "      <td>Biddle</td>\n",
       "      <td>Jesse Biddle</td>\n",
       "      <td>P</td>\n",
       "      <td>ATL</td>\n",
       "      <td>56</td>\n",
       "      <td>2</td>\n",
       "      <td>0</td>\n",
       "      <td>1</td>\n",
       "      <td>1</td>\n",
       "      <td>...</td>\n",
       "      <td>1</td>\n",
       "      <td>0</td>\n",
       "      <td>0</td>\n",
       "      <td>0</td>\n",
       "      <td>NaN</td>\n",
       "      <td>.500</td>\n",
       "      <td>.500</td>\n",
       "      <td>1.000</td>\n",
       "      <td>1.500</td>\n",
       "      <td>0</td>\n",
       "    </tr>\n",
       "    <tr>\n",
       "      <th>10</th>\n",
       "      <td>Ryder</td>\n",
       "      <td>Jones</td>\n",
       "      <td>Ryder Jones</td>\n",
       "      <td>3B</td>\n",
       "      <td>SF</td>\n",
       "      <td>5</td>\n",
       "      <td>8</td>\n",
       "      <td>2</td>\n",
       "      <td>3</td>\n",
       "      <td>0</td>\n",
       "      <td>...</td>\n",
       "      <td>3</td>\n",
       "      <td>0</td>\n",
       "      <td>5</td>\n",
       "      <td>0</td>\n",
       "      <td>NaN</td>\n",
       "      <td>.375</td>\n",
       "      <td>.375</td>\n",
       "      <td>1.125</td>\n",
       "      <td>1.500</td>\n",
       "      <td>0</td>\n",
       "    </tr>\n",
       "    <tr>\n",
       "      <th>11</th>\n",
       "      <td>Ryan</td>\n",
       "      <td>Lavarnway</td>\n",
       "      <td>Ryan Lavarnway</td>\n",
       "      <td>C</td>\n",
       "      <td>PIT</td>\n",
       "      <td>6</td>\n",
       "      <td>6</td>\n",
       "      <td>1</td>\n",
       "      <td>4</td>\n",
       "      <td>1</td>\n",
       "      <td>...</td>\n",
       "      <td>1</td>\n",
       "      <td>0</td>\n",
       "      <td>1</td>\n",
       "      <td>0</td>\n",
       "      <td>NaN</td>\n",
       "      <td>.667</td>\n",
       "      <td>.667</td>\n",
       "      <td>.833</td>\n",
       "      <td>1.500</td>\n",
       "      <td>0</td>\n",
       "    </tr>\n",
       "    <tr>\n",
       "      <th>12</th>\n",
       "      <td>Jorge</td>\n",
       "      <td>Lopez</td>\n",
       "      <td>Jorge Lopez</td>\n",
       "      <td>P</td>\n",
       "      <td>KC</td>\n",
       "      <td>10</td>\n",
       "      <td>2</td>\n",
       "      <td>1</td>\n",
       "      <td>1</td>\n",
       "      <td>1</td>\n",
       "      <td>...</td>\n",
       "      <td>2</td>\n",
       "      <td>0</td>\n",
       "      <td>1</td>\n",
       "      <td>0</td>\n",
       "      <td>NaN</td>\n",
       "      <td>.500</td>\n",
       "      <td>.500</td>\n",
       "      <td>1.000</td>\n",
       "      <td>1.500</td>\n",
       "      <td>0</td>\n",
       "    </tr>\n",
       "    <tr>\n",
       "      <th>13</th>\n",
       "      <td>Dennis</td>\n",
       "      <td>Santana</td>\n",
       "      <td>Dennis Santana</td>\n",
       "      <td>P</td>\n",
       "      <td>LAD</td>\n",
       "      <td>2</td>\n",
       "      <td>2</td>\n",
       "      <td>0</td>\n",
       "      <td>1</td>\n",
       "      <td>1</td>\n",
       "      <td>...</td>\n",
       "      <td>2</td>\n",
       "      <td>0</td>\n",
       "      <td>1</td>\n",
       "      <td>0</td>\n",
       "      <td>NaN</td>\n",
       "      <td>.500</td>\n",
       "      <td>.500</td>\n",
       "      <td>1.000</td>\n",
       "      <td>1.500</td>\n",
       "      <td>0</td>\n",
       "    </tr>\n",
       "    <tr>\n",
       "      <th>14</th>\n",
       "      <td>Ryan</td>\n",
       "      <td>Schimpf</td>\n",
       "      <td>Ryan Schimpf</td>\n",
       "      <td>3B</td>\n",
       "      <td>LAA</td>\n",
       "      <td>5</td>\n",
       "      <td>5</td>\n",
       "      <td>2</td>\n",
       "      <td>1</td>\n",
       "      <td>0</td>\n",
       "      <td>...</td>\n",
       "      <td>2</td>\n",
       "      <td>2</td>\n",
       "      <td>3</td>\n",
       "      <td>0</td>\n",
       "      <td>NaN</td>\n",
       "      <td>.200</td>\n",
       "      <td>.429</td>\n",
       "      <td>.800</td>\n",
       "      <td>1.229</td>\n",
       "      <td>0</td>\n",
       "    </tr>\n",
       "    <tr>\n",
       "      <th>15</th>\n",
       "      <td>Dustin</td>\n",
       "      <td>Garneau</td>\n",
       "      <td>Dustin Garneau</td>\n",
       "      <td>C</td>\n",
       "      <td>CWS</td>\n",
       "      <td>1</td>\n",
       "      <td>2</td>\n",
       "      <td>0</td>\n",
       "      <td>1</td>\n",
       "      <td>0</td>\n",
       "      <td>...</td>\n",
       "      <td>1</td>\n",
       "      <td>1</td>\n",
       "      <td>0</td>\n",
       "      <td>0</td>\n",
       "      <td>NaN</td>\n",
       "      <td>.500</td>\n",
       "      <td>.667</td>\n",
       "      <td>.500</td>\n",
       "      <td>1.167</td>\n",
       "      <td>0</td>\n",
       "    </tr>\n",
       "    <tr>\n",
       "      <th>16</th>\n",
       "      <td>Rick</td>\n",
       "      <td>Porcello</td>\n",
       "      <td>Rick Porcello</td>\n",
       "      <td>P</td>\n",
       "      <td>BOS</td>\n",
       "      <td>3</td>\n",
       "      <td>7</td>\n",
       "      <td>1</td>\n",
       "      <td>3</td>\n",
       "      <td>2</td>\n",
       "      <td>...</td>\n",
       "      <td>3</td>\n",
       "      <td>0</td>\n",
       "      <td>3</td>\n",
       "      <td>0</td>\n",
       "      <td>NaN</td>\n",
       "      <td>.429</td>\n",
       "      <td>.429</td>\n",
       "      <td>.714</td>\n",
       "      <td>1.143</td>\n",
       "      <td>0</td>\n",
       "    </tr>\n",
       "    <tr>\n",
       "      <th>17</th>\n",
       "      <td>Mark</td>\n",
       "      <td>Zagunis</td>\n",
       "      <td>Mark Zagunis</td>\n",
       "      <td>RF</td>\n",
       "      <td>CHC</td>\n",
       "      <td>5</td>\n",
       "      <td>5</td>\n",
       "      <td>0</td>\n",
       "      <td>2</td>\n",
       "      <td>1</td>\n",
       "      <td>...</td>\n",
       "      <td>1</td>\n",
       "      <td>1</td>\n",
       "      <td>1</td>\n",
       "      <td>0</td>\n",
       "      <td>NaN</td>\n",
       "      <td>.400</td>\n",
       "      <td>.500</td>\n",
       "      <td>.600</td>\n",
       "      <td>1.100</td>\n",
       "      <td>0</td>\n",
       "    </tr>\n",
       "    <tr>\n",
       "      <th>18</th>\n",
       "      <td>Mike</td>\n",
       "      <td>Trout</td>\n",
       "      <td>Mike Trout</td>\n",
       "      <td>CF</td>\n",
       "      <td>LAA</td>\n",
       "      <td>140</td>\n",
       "      <td>471</td>\n",
       "      <td>101</td>\n",
       "      <td>147</td>\n",
       "      <td>24</td>\n",
       "      <td>...</td>\n",
       "      <td>79</td>\n",
       "      <td>122</td>\n",
       "      <td>124</td>\n",
       "      <td>24</td>\n",
       "      <td>NaN</td>\n",
       "      <td>.312</td>\n",
       "      <td>.460</td>\n",
       "      <td>.628</td>\n",
       "      <td>1.088</td>\n",
       "      <td>2</td>\n",
       "    </tr>\n",
       "    <tr>\n",
       "      <th>19</th>\n",
       "      <td>Mookie</td>\n",
       "      <td>Betts</td>\n",
       "      <td>Mookie Betts</td>\n",
       "      <td>RF</td>\n",
       "      <td>BOS</td>\n",
       "      <td>136</td>\n",
       "      <td>520</td>\n",
       "      <td>129</td>\n",
       "      <td>180</td>\n",
       "      <td>47</td>\n",
       "      <td>...</td>\n",
       "      <td>80</td>\n",
       "      <td>81</td>\n",
       "      <td>91</td>\n",
       "      <td>30</td>\n",
       "      <td>NaN</td>\n",
       "      <td>.346</td>\n",
       "      <td>.438</td>\n",
       "      <td>.640</td>\n",
       "      <td>1.078</td>\n",
       "      <td>6</td>\n",
       "    </tr>\n",
       "    <tr>\n",
       "      <th>20</th>\n",
       "      <td>Luke</td>\n",
       "      <td>Voit</td>\n",
       "      <td>Luke Voit</td>\n",
       "      <td>1B</td>\n",
       "      <td>NYY</td>\n",
       "      <td>47</td>\n",
       "      <td>143</td>\n",
       "      <td>30</td>\n",
       "      <td>46</td>\n",
       "      <td>5</td>\n",
       "      <td>...</td>\n",
       "      <td>36</td>\n",
       "      <td>17</td>\n",
       "      <td>43</td>\n",
       "      <td>0</td>\n",
       "      <td>NaN</td>\n",
       "      <td>.322</td>\n",
       "      <td>.398</td>\n",
       "      <td>.671</td>\n",
       "      <td>1.069</td>\n",
       "      <td>0</td>\n",
       "    </tr>\n",
       "    <tr>\n",
       "      <th>21</th>\n",
       "      <td>Myles</td>\n",
       "      <td>Straw</td>\n",
       "      <td>Myles Straw</td>\n",
       "      <td>CF</td>\n",
       "      <td>HOU</td>\n",
       "      <td>9</td>\n",
       "      <td>9</td>\n",
       "      <td>4</td>\n",
       "      <td>3</td>\n",
       "      <td>0</td>\n",
       "      <td>...</td>\n",
       "      <td>1</td>\n",
       "      <td>1</td>\n",
       "      <td>0</td>\n",
       "      <td>2</td>\n",
       "      <td>NaN</td>\n",
       "      <td>.333</td>\n",
       "      <td>.400</td>\n",
       "      <td>.667</td>\n",
       "      <td>1.067</td>\n",
       "      <td>0</td>\n",
       "    </tr>\n",
       "    <tr>\n",
       "      <th>22</th>\n",
       "      <td>Michael</td>\n",
       "      <td>Lorenzen</td>\n",
       "      <td>Michael Lorenzen</td>\n",
       "      <td>P</td>\n",
       "      <td>CIN</td>\n",
       "      <td>54</td>\n",
       "      <td>31</td>\n",
       "      <td>5</td>\n",
       "      <td>9</td>\n",
       "      <td>1</td>\n",
       "      <td>...</td>\n",
       "      <td>10</td>\n",
       "      <td>2</td>\n",
       "      <td>9</td>\n",
       "      <td>0</td>\n",
       "      <td>NaN</td>\n",
       "      <td>.290</td>\n",
       "      <td>.333</td>\n",
       "      <td>.710</td>\n",
       "      <td>1.043</td>\n",
       "      <td>0</td>\n",
       "    </tr>\n",
       "    <tr>\n",
       "      <th>23</th>\n",
       "      <td>J.D.</td>\n",
       "      <td>Martinez</td>\n",
       "      <td>J.D. Martinez</td>\n",
       "      <td>LF</td>\n",
       "      <td>BOS</td>\n",
       "      <td>150</td>\n",
       "      <td>569</td>\n",
       "      <td>111</td>\n",
       "      <td>188</td>\n",
       "      <td>37</td>\n",
       "      <td>...</td>\n",
       "      <td>130</td>\n",
       "      <td>69</td>\n",
       "      <td>146</td>\n",
       "      <td>6</td>\n",
       "      <td>NaN</td>\n",
       "      <td>.330</td>\n",
       "      <td>.402</td>\n",
       "      <td>.629</td>\n",
       "      <td>1.031</td>\n",
       "      <td>1</td>\n",
       "    </tr>\n",
       "    <tr>\n",
       "      <th>24</th>\n",
       "      <td>Christian</td>\n",
       "      <td>Yelich</td>\n",
       "      <td>Christian Yelich</td>\n",
       "      <td>RF</td>\n",
       "      <td>MIL</td>\n",
       "      <td>147</td>\n",
       "      <td>574</td>\n",
       "      <td>118</td>\n",
       "      <td>187</td>\n",
       "      <td>34</td>\n",
       "      <td>...</td>\n",
       "      <td>110</td>\n",
       "      <td>68</td>\n",
       "      <td>135</td>\n",
       "      <td>22</td>\n",
       "      <td>NaN</td>\n",
       "      <td>.326</td>\n",
       "      <td>.402</td>\n",
       "      <td>.598</td>\n",
       "      <td>1.000</td>\n",
       "      <td>4</td>\n",
       "    </tr>\n",
       "  </tbody>\n",
       "</table>\n",
       "<p>25 rows × 22 columns</p>\n",
       "</div>"
      ],
      "text/plain": [
       "    FirstName   LastName          FullName Position Team Games At_Bats Runs  \\\n",
       "0        Enny     Romero       Enny Romero        P   KC     4       1    1   \n",
       "1       Kolby     Allard      Kolby Allard        P  ATL     3       1    1   \n",
       "2        Kyle     Gibson       Kyle Gibson        P  MIN     1       2    2   \n",
       "3       Derek        Law         Derek Law        P   SF     7       1    1   \n",
       "4       Vidal       Nuno        Vidal Nuno        P   TB     1       2    0   \n",
       "5       Randy    Rosario     Randy Rosario        P  CHC    43       1    1   \n",
       "6        Chad    Sobotka      Chad Sobotka        P  ATL    14       1    0   \n",
       "7        A.J.       Cole         A.J. Cole        P  NYY     6       3    1   \n",
       "8         Dan   Jennings      Dan Jennings        P  MIL    65       3    1   \n",
       "9       Jesse     Biddle      Jesse Biddle        P  ATL    56       2    0   \n",
       "10      Ryder      Jones       Ryder Jones       3B   SF     5       8    2   \n",
       "11       Ryan  Lavarnway    Ryan Lavarnway        C  PIT     6       6    1   \n",
       "12      Jorge      Lopez       Jorge Lopez        P   KC    10       2    1   \n",
       "13     Dennis    Santana    Dennis Santana        P  LAD     2       2    0   \n",
       "14       Ryan    Schimpf      Ryan Schimpf       3B  LAA     5       5    2   \n",
       "15     Dustin    Garneau    Dustin Garneau        C  CWS     1       2    0   \n",
       "16       Rick   Porcello     Rick Porcello        P  BOS     3       7    1   \n",
       "17       Mark    Zagunis      Mark Zagunis       RF  CHC     5       5    0   \n",
       "18       Mike      Trout        Mike Trout       CF  LAA   140     471  101   \n",
       "19     Mookie      Betts      Mookie Betts       RF  BOS   136     520  129   \n",
       "20       Luke       Voit         Luke Voit       1B  NYY    47     143   30   \n",
       "21      Myles      Straw       Myles Straw       CF  HOU     9       9    4   \n",
       "22    Michael   Lorenzen  Michael Lorenzen        P  CIN    54      31    5   \n",
       "23       J.D.   Martinez     J.D. Martinez       LF  BOS   150     569  111   \n",
       "24  Christian     Yelich  Christian Yelich       RF  MIL   147     574  118   \n",
       "\n",
       "   Hits Doubles  ... RBIs Walks Strikeouts StolenBases CaughtStealing  \\\n",
       "0     1       1  ...    0     0          0           0            NaN   \n",
       "1     1       0  ...    0     0          0           0            NaN   \n",
       "2     2       0  ...    0     0          0           0            NaN   \n",
       "3     1       0  ...    0     0          0           0            NaN   \n",
       "4     2       0  ...    1     0          0           0            NaN   \n",
       "5     1       0  ...    1     1          0           0            NaN   \n",
       "6     1       0  ...    0     0          0           0            NaN   \n",
       "7     1       0  ...    1     0          1           0            NaN   \n",
       "8     2       1  ...    0     0          1           0            NaN   \n",
       "9     1       1  ...    1     0          0           0            NaN   \n",
       "10    3       0  ...    3     0          5           0            NaN   \n",
       "11    4       1  ...    1     0          1           0            NaN   \n",
       "12    1       1  ...    2     0          1           0            NaN   \n",
       "13    1       1  ...    2     0          1           0            NaN   \n",
       "14    1       0  ...    2     2          3           0            NaN   \n",
       "15    1       0  ...    1     1          0           0            NaN   \n",
       "16    3       2  ...    3     0          3           0            NaN   \n",
       "17    2       1  ...    1     1          1           0            NaN   \n",
       "18  147      24  ...   79   122        124          24            NaN   \n",
       "19  180      47  ...   80    81         91          30            NaN   \n",
       "20   46       5  ...   36    17         43           0            NaN   \n",
       "21    3       0  ...    1     1          0           2            NaN   \n",
       "22    9       1  ...   10     2          9           0            NaN   \n",
       "23  188      37  ...  130    69        146           6            NaN   \n",
       "24  187      34  ...  110    68        135          22            NaN   \n",
       "\n",
       "   BattingAverage OnBasePercentage SluggingPercentage OnBaseSluggingPercent  \\\n",
       "0           1.000            1.000              2.000                 3.000   \n",
       "1           1.000            1.000              1.000                 2.000   \n",
       "2           1.000            1.000              1.000                 2.000   \n",
       "3           1.000            1.000              1.000                 2.000   \n",
       "4           1.000            1.000              1.000                 2.000   \n",
       "5           1.000            1.000              1.000                 2.000   \n",
       "6           1.000            1.000              1.000                 2.000   \n",
       "7            .333             .333              1.333                 1.667   \n",
       "8            .667             .667              1.000                 1.667   \n",
       "9            .500             .500              1.000                 1.500   \n",
       "10           .375             .375              1.125                 1.500   \n",
       "11           .667             .667               .833                 1.500   \n",
       "12           .500             .500              1.000                 1.500   \n",
       "13           .500             .500              1.000                 1.500   \n",
       "14           .200             .429               .800                 1.229   \n",
       "15           .500             .667               .500                 1.167   \n",
       "16           .429             .429               .714                 1.143   \n",
       "17           .400             .500               .600                 1.100   \n",
       "18           .312             .460               .628                 1.088   \n",
       "19           .346             .438               .640                 1.078   \n",
       "20           .322             .398               .671                 1.069   \n",
       "21           .333             .400               .667                 1.067   \n",
       "22           .290             .333               .710                 1.043   \n",
       "23           .330             .402               .629                 1.031   \n",
       "24           .326             .402               .598                 1.000   \n",
       "\n",
       "   CaughStealing  \n",
       "0              0  \n",
       "1              0  \n",
       "2              0  \n",
       "3              0  \n",
       "4              0  \n",
       "5              0  \n",
       "6              0  \n",
       "7              0  \n",
       "8              0  \n",
       "9              0  \n",
       "10             0  \n",
       "11             0  \n",
       "12             0  \n",
       "13             0  \n",
       "14             0  \n",
       "15             0  \n",
       "16             0  \n",
       "17             0  \n",
       "18             2  \n",
       "19             6  \n",
       "20             0  \n",
       "21             0  \n",
       "22             0  \n",
       "23             1  \n",
       "24             4  \n",
       "\n",
       "[25 rows x 22 columns]"
      ]
     },
     "execution_count": 64,
     "metadata": {},
     "output_type": "execute_result"
    }
   ],
   "source": [
    "df"
   ]
  },
  {
   "cell_type": "code",
   "execution_count": 65,
   "metadata": {},
   "outputs": [
    {
     "data": {
      "text/plain": [
       "['https://www.mlb.com/stats/2018?page=2&playerPool=ALL',\n",
       " 'https://www.mlb.com/stats/2018?page=3&playerPool=ALL',\n",
       " 'https://www.mlb.com/stats/2018?page=4&playerPool=ALL',\n",
       " 'https://www.mlb.com/stats/2018?page=5&playerPool=ALL',\n",
       " 'https://www.mlb.com/stats/2018?page=6&playerPool=ALL',\n",
       " 'https://www.mlb.com/stats/2018?page=7&playerPool=ALL',\n",
       " 'https://www.mlb.com/stats/2018?page=8&playerPool=ALL',\n",
       " 'https://www.mlb.com/stats/2018?page=9&playerPool=ALL',\n",
       " 'https://www.mlb.com/stats/2018?page=10&playerPool=ALL',\n",
       " 'https://www.mlb.com/stats/2018?page=11&playerPool=ALL',\n",
       " 'https://www.mlb.com/stats/2018?page=12&playerPool=ALL',\n",
       " 'https://www.mlb.com/stats/2018?page=13&playerPool=ALL',\n",
       " 'https://www.mlb.com/stats/2018?page=14&playerPool=ALL',\n",
       " 'https://www.mlb.com/stats/2018?page=15&playerPool=ALL',\n",
       " 'https://www.mlb.com/stats/2018?page=16&playerPool=ALL',\n",
       " 'https://www.mlb.com/stats/2018?page=17&playerPool=ALL',\n",
       " 'https://www.mlb.com/stats/2018?page=18&playerPool=ALL',\n",
       " 'https://www.mlb.com/stats/2018?page=19&playerPool=ALL',\n",
       " 'https://www.mlb.com/stats/2018?page=20&playerPool=ALL',\n",
       " 'https://www.mlb.com/stats/2018?page=21&playerPool=ALL',\n",
       " 'https://www.mlb.com/stats/2018?page=22&playerPool=ALL',\n",
       " 'https://www.mlb.com/stats/2018?page=23&playerPool=ALL',\n",
       " 'https://www.mlb.com/stats/2018?page=24&playerPool=ALL',\n",
       " 'https://www.mlb.com/stats/2018?page=25&playerPool=ALL',\n",
       " 'https://www.mlb.com/stats/2018?page=26&playerPool=ALL',\n",
       " 'https://www.mlb.com/stats/2018?page=27&playerPool=ALL',\n",
       " 'https://www.mlb.com/stats/2018?page=28&playerPool=ALL',\n",
       " 'https://www.mlb.com/stats/2018?page=29&playerPool=ALL',\n",
       " 'https://www.mlb.com/stats/2018?page=30&playerPool=ALL',\n",
       " 'https://www.mlb.com/stats/2018?page=31&playerPool=ALL',\n",
       " 'https://www.mlb.com/stats/2018?page=32&playerPool=ALL',\n",
       " 'https://www.mlb.com/stats/2018?page=33&playerPool=ALL',\n",
       " 'https://www.mlb.com/stats/2018?page=34&playerPool=ALL',\n",
       " 'https://www.mlb.com/stats/2018?page=35&playerPool=ALL',\n",
       " 'https://www.mlb.com/stats/2018?page=36&playerPool=ALL',\n",
       " 'https://www.mlb.com/stats/2018?page=37&playerPool=ALL',\n",
       " 'https://www.mlb.com/stats/2018?page=38&playerPool=ALL',\n",
       " 'https://www.mlb.com/stats/2018?page=39&playerPool=ALL',\n",
       " 'https://www.mlb.com/stats/2018?page=40&playerPool=ALL',\n",
       " 'https://www.mlb.com/stats/2018?page=41&playerPool=ALL',\n",
       " 'https://www.mlb.com/stats/2018?page=42&playerPool=ALL',\n",
       " 'https://www.mlb.com/stats/2018?page=43&playerPool=ALL',\n",
       " 'https://www.mlb.com/stats/2018?page=44&playerPool=ALL',\n",
       " 'https://www.mlb.com/stats/2018?page=45&playerPool=ALL',\n",
       " 'https://www.mlb.com/stats/2018?page=46&playerPool=ALL',\n",
       " 'https://www.mlb.com/stats/2018?page=47&playerPool=ALL',\n",
       " 'https://www.mlb.com/stats/2018?page=48&playerPool=ALL',\n",
       " 'https://www.mlb.com/stats/2018?page=49&playerPool=ALL',\n",
       " 'https://www.mlb.com/stats/2018?page=50&playerPool=ALL',\n",
       " 'https://www.mlb.com/stats/2018?page=51&playerPool=ALL']"
      ]
     },
     "execution_count": 65,
     "metadata": {},
     "output_type": "execute_result"
    }
   ],
   "source": [
    "url_list = []\n",
    "\n",
    "for i in range(2, 52):\n",
    "    url_list.append('https://www.mlb.com/stats/2018?page=' + str(i) + '&playerPool=ALL')\n",
    "\n",
    "url_list"
   ]
  },
  {
   "cell_type": "code",
   "execution_count": 66,
   "metadata": {},
   "outputs": [
    {
     "ename": "NameError",
     "evalue": "name 'AtrributeError' is not defined",
     "output_type": "error",
     "traceback": [
      "\u001b[0;31m---------------------------------------------------------------------------\u001b[0m",
      "\u001b[0;31mAttributeError\u001b[0m                            Traceback (most recent call last)",
      "\u001b[0;32m<ipython-input-61-e215a289243d>\u001b[0m in \u001b[0;36mget_contents\u001b[0;34m(webpage)\u001b[0m\n\u001b[1;32m      8\u001b[0m         \u001b[0;32mtry\u001b[0m\u001b[0;34m:\u001b[0m\u001b[0;34m\u001b[0m\u001b[0;34m\u001b[0m\u001b[0m\n\u001b[0;32m----> 9\u001b[0;31m             \u001b[0mfirst_name\u001b[0m\u001b[0;34m,\u001b[0m \u001b[0mlast_name\u001b[0m\u001b[0;34m,\u001b[0m \u001b[0mfull_name\u001b[0m \u001b[0;34m=\u001b[0m \u001b[0mget_first_name\u001b[0m\u001b[0;34m(\u001b[0m\u001b[0msoup\u001b[0m\u001b[0;34m,\u001b[0m \u001b[0mi\u001b[0m\u001b[0;34m)\u001b[0m\u001b[0;34m\u001b[0m\u001b[0;34m\u001b[0m\u001b[0m\n\u001b[0m\u001b[1;32m     10\u001b[0m             \u001b[0mposition\u001b[0m \u001b[0;34m=\u001b[0m \u001b[0mget_position\u001b[0m\u001b[0;34m(\u001b[0m\u001b[0msoup\u001b[0m\u001b[0;34m,\u001b[0m \u001b[0mi\u001b[0m\u001b[0;34m)\u001b[0m\u001b[0;34m\u001b[0m\u001b[0;34m\u001b[0m\u001b[0m\n",
      "\u001b[0;32m<ipython-input-53-0cef6f6aa80b>\u001b[0m in \u001b[0;36mget_first_name\u001b[0;34m(soup, data_row)\u001b[0m\n\u001b[1;32m      2\u001b[0m     \u001b[0mcontainer\u001b[0m \u001b[0;34m=\u001b[0m \u001b[0msoup\u001b[0m\u001b[0;34m.\u001b[0m\u001b[0mfind\u001b[0m\u001b[0;34m(\u001b[0m\u001b[0;34m'th'\u001b[0m\u001b[0;34m,\u001b[0m \u001b[0;34m{\u001b[0m\u001b[0;34m'data-row'\u001b[0m \u001b[0;34m:\u001b[0m \u001b[0mdata_row\u001b[0m\u001b[0;34m}\u001b[0m\u001b[0;34m)\u001b[0m\u001b[0;34m\u001b[0m\u001b[0;34m\u001b[0m\u001b[0m\n\u001b[0;32m----> 3\u001b[0;31m     \u001b[0mnames\u001b[0m \u001b[0;34m=\u001b[0m \u001b[0mcontainer\u001b[0m\u001b[0;34m.\u001b[0m\u001b[0mfindAll\u001b[0m\u001b[0;34m(\u001b[0m\u001b[0;34m'span'\u001b[0m\u001b[0;34m,\u001b[0m \u001b[0mclass_\u001b[0m \u001b[0;34m=\u001b[0m \u001b[0;34m'full-3fV3c9pF'\u001b[0m\u001b[0;34m)\u001b[0m\u001b[0;34m\u001b[0m\u001b[0;34m\u001b[0m\u001b[0m\n\u001b[0m\u001b[1;32m      4\u001b[0m     \u001b[0mfirst_name\u001b[0m \u001b[0;34m=\u001b[0m \u001b[0mnames\u001b[0m\u001b[0;34m[\u001b[0m\u001b[0;36m0\u001b[0m\u001b[0;34m]\u001b[0m\u001b[0;34m.\u001b[0m\u001b[0mget_text\u001b[0m\u001b[0;34m(\u001b[0m\u001b[0;34m)\u001b[0m\u001b[0;34m\u001b[0m\u001b[0;34m\u001b[0m\u001b[0m\n",
      "\u001b[0;31mAttributeError\u001b[0m: 'NoneType' object has no attribute 'findAll'",
      "\nDuring handling of the above exception, another exception occurred:\n",
      "\u001b[0;31mNameError\u001b[0m                                 Traceback (most recent call last)",
      "\u001b[0;32m<ipython-input-66-1902072c3404>\u001b[0m in \u001b[0;36m<module>\u001b[0;34m\u001b[0m\n\u001b[1;32m      1\u001b[0m \u001b[0;32mfor\u001b[0m \u001b[0mi\u001b[0m \u001b[0;32min\u001b[0m \u001b[0murl_list\u001b[0m\u001b[0;34m:\u001b[0m\u001b[0;34m\u001b[0m\u001b[0;34m\u001b[0m\u001b[0m\n\u001b[0;32m----> 2\u001b[0;31m     \u001b[0mget_contents\u001b[0m\u001b[0;34m(\u001b[0m\u001b[0mi\u001b[0m\u001b[0;34m)\u001b[0m\u001b[0;34m\u001b[0m\u001b[0;34m\u001b[0m\u001b[0m\n\u001b[0m",
      "\u001b[0;32m<ipython-input-61-e215a289243d>\u001b[0m in \u001b[0;36mget_contents\u001b[0;34m(webpage)\u001b[0m\n\u001b[1;32m     50\u001b[0m                            'OnBaseSluggingPercent': onbaseslug}, ignore_index=True)\n\u001b[1;32m     51\u001b[0m \u001b[0;34m\u001b[0m\u001b[0m\n\u001b[0;32m---> 52\u001b[0;31m         \u001b[0;32mexcept\u001b[0m \u001b[0mAtrributeError\u001b[0m\u001b[0;34m:\u001b[0m\u001b[0;34m\u001b[0m\u001b[0;34m\u001b[0m\u001b[0m\n\u001b[0m\u001b[1;32m     53\u001b[0m             \u001b[0;32mcontinue\u001b[0m\u001b[0;34m\u001b[0m\u001b[0;34m\u001b[0m\u001b[0m\n",
      "\u001b[0;31mNameError\u001b[0m: name 'AtrributeError' is not defined"
     ]
    }
   ],
   "source": [
    "for i in url_list:\n",
    "    get_contents(i)"
   ]
  },
  {
   "cell_type": "code",
   "execution_count": 58,
   "metadata": {},
   "outputs": [
    {
     "data": {
      "text/plain": [
       "(1270, 22)"
      ]
     },
     "execution_count": 58,
     "metadata": {},
     "output_type": "execute_result"
    }
   ],
   "source": [
    "df.shape"
   ]
  },
  {
   "cell_type": "code",
   "execution_count": 197,
   "metadata": {},
   "outputs": [
    {
     "data": {
      "text/plain": [
       "(877, 4)"
      ]
     },
     "execution_count": 197,
     "metadata": {},
     "output_type": "execute_result"
    }
   ],
   "source": [
    "salary.shape"
   ]
  },
  {
   "cell_type": "code",
   "execution_count": 198,
   "metadata": {},
   "outputs": [
    {
     "data": {
      "text/plain": [
       "Anthony Rendon      51\n",
       "Khris Davis         51\n",
       "David Peralta       51\n",
       "Francisco Lindor    51\n",
       "Christian Yelich    51\n",
       "Matt Chapman        51\n",
       "Javier Baez         51\n",
       "Charlie Blackmon    51\n",
       "Manny Machado       51\n",
       "Mookie Betts        51\n",
       "Trevor Story        51\n",
       "Jesus Aguilar       51\n",
       "Paul Goldschmidt    51\n",
       "Bryce Harper        51\n",
       "Mitch Haniger       51\n",
       "Matt Carpenter      51\n",
       "Freddie Freeman     51\n",
       "J.D. Martinez       51\n",
       "Mike Trout          51\n",
       "Eugenio Suarez      51\n",
       "Brandon Nimmo       51\n",
       "Alex Bregman        51\n",
       "Nolan Arenado       51\n",
       "Xander Bogaerts     51\n",
       "Jose Ramirez        51\n",
       "Name: FullName, dtype: int64"
      ]
     },
     "execution_count": 198,
     "metadata": {},
     "output_type": "execute_result"
    }
   ],
   "source": [
    "df.FullName.value_counts()"
   ]
  },
  {
   "cell_type": "code",
   "execution_count": null,
   "metadata": {},
   "outputs": [],
   "source": []
  }
 ],
 "metadata": {
  "kernelspec": {
   "display_name": "Python 3",
   "language": "python",
   "name": "python3"
  },
  "language_info": {
   "codemirror_mode": {
    "name": "ipython",
    "version": 3
   },
   "file_extension": ".py",
   "mimetype": "text/x-python",
   "name": "python",
   "nbconvert_exporter": "python",
   "pygments_lexer": "ipython3",
   "version": "3.7.6"
  }
 },
 "nbformat": 4,
 "nbformat_minor": 4
}
