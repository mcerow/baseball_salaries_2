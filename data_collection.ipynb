{
 "cells": [
  {
   "cell_type": "markdown",
   "metadata": {},
   "source": [
    "# Predicting Baseball Salaries, Part II\n",
    "\n",
    "I previously worked on a simple regression model to predict baseball player salaries where I collected player team, position and salary for the 2019 season. It was a simple exercise in using decision trees and different ensemble methods to predict salaries, but I wanted to go back adn see if I included more stats, specifically the previous season's hitting statistics, could I get closer to predicting salary?\n",
    "\n",
    "My first step was to load in the libraries necessary and then my previously collected salary data from [USA Today](https://www.usatoday.com/sports/mlb/salaries/)."
   ]
  },
  {
   "cell_type": "code",
   "execution_count": 1,
   "metadata": {},
   "outputs": [],
   "source": [
    "import pandas as pd\n",
    "import numpy as np\n",
    "import requests\n",
    "from bs4 import BeautifulSoup\n",
    "import time"
   ]
  },
  {
   "cell_type": "code",
   "execution_count": 2,
   "metadata": {},
   "outputs": [],
   "source": [
    "pd.set_option('display.max_columns', None)"
   ]
  },
  {
   "cell_type": "code",
   "execution_count": 3,
   "metadata": {},
   "outputs": [],
   "source": [
    "salary = pd.read_pickle('salary_info')"
   ]
  },
  {
   "cell_type": "code",
   "execution_count": 4,
   "metadata": {},
   "outputs": [
    {
     "data": {
      "text/html": [
       "<div>\n",
       "<style scoped>\n",
       "    .dataframe tbody tr th:only-of-type {\n",
       "        vertical-align: middle;\n",
       "    }\n",
       "\n",
       "    .dataframe tbody tr th {\n",
       "        vertical-align: top;\n",
       "    }\n",
       "\n",
       "    .dataframe thead th {\n",
       "        text-align: right;\n",
       "    }\n",
       "</style>\n",
       "<table border=\"1\" class=\"dataframe\">\n",
       "  <thead>\n",
       "    <tr style=\"text-align: right;\">\n",
       "      <th></th>\n",
       "      <th>name</th>\n",
       "      <th>team</th>\n",
       "      <th>position</th>\n",
       "      <th>salary</th>\n",
       "    </tr>\n",
       "  </thead>\n",
       "  <tbody>\n",
       "    <tr>\n",
       "      <th>0</th>\n",
       "      <td>MaxScherzer</td>\n",
       "      <td>WSH</td>\n",
       "      <td>SP</td>\n",
       "      <td>42142857</td>\n",
       "    </tr>\n",
       "    <tr>\n",
       "      <th>1</th>\n",
       "      <td>StephenStrasburg</td>\n",
       "      <td>WSH</td>\n",
       "      <td>SP</td>\n",
       "      <td>36428571</td>\n",
       "    </tr>\n",
       "    <tr>\n",
       "      <th>2</th>\n",
       "      <td>MikeTrout</td>\n",
       "      <td>LAA</td>\n",
       "      <td>CF</td>\n",
       "      <td>34083333</td>\n",
       "    </tr>\n",
       "    <tr>\n",
       "      <th>3</th>\n",
       "      <td>ZackGreinke</td>\n",
       "      <td>ARI</td>\n",
       "      <td>SP</td>\n",
       "      <td>32421884</td>\n",
       "    </tr>\n",
       "    <tr>\n",
       "      <th>4</th>\n",
       "      <td>DavidPrice</td>\n",
       "      <td>BOS</td>\n",
       "      <td>SP</td>\n",
       "      <td>31000000</td>\n",
       "    </tr>\n",
       "  </tbody>\n",
       "</table>\n",
       "</div>"
      ],
      "text/plain": [
       "               name team position    salary\n",
       "0       MaxScherzer  WSH       SP  42142857\n",
       "1  StephenStrasburg  WSH       SP  36428571\n",
       "2         MikeTrout  LAA       CF  34083333\n",
       "3       ZackGreinke  ARI       SP  32421884\n",
       "4        DavidPrice  BOS       SP  31000000"
      ]
     },
     "execution_count": 4,
     "metadata": {},
     "output_type": "execute_result"
    }
   ],
   "source": [
    "salary.head()"
   ]
  },
  {
   "cell_type": "markdown",
   "metadata": {},
   "source": [
    "Now that I have those salaraies, I want to get the 2018 hitting stats. I'm going to collect my data from [MLB's site](https://www.mlb.com/stats/2018) for each player and then use BeautifulSoup to parse the HTML."
   ]
  },
  {
   "cell_type": "code",
   "execution_count": 5,
   "metadata": {},
   "outputs": [
    {
     "data": {
      "text/plain": [
       "<Response [200]>"
      ]
     },
     "execution_count": 5,
     "metadata": {},
     "output_type": "execute_result"
    }
   ],
   "source": [
    "url = 'https://www.mlb.com/stats/2018'\n",
    "html = requests.get(url)\n",
    "html"
   ]
  },
  {
   "cell_type": "code",
   "execution_count": 6,
   "metadata": {},
   "outputs": [],
   "source": [
    "soup = BeautifulSoup(html.content, 'html.parser')"
   ]
  },
  {
   "cell_type": "code",
   "execution_count": 126,
   "metadata": {},
   "outputs": [
    {
     "data": {
      "text/plain": [
       "<th class=\"pinned-col-3lxtuFnc col-group-start-sa9unvY0 number-aY5arzrB first-col-3aGPCzvr is-table-pinned-1WfPW2jT\" data-col=\"0\" data-row=\"0\" id=\"tb-1913-body-row0\" scope=\"row\"><div class=\"custom-cell-wrapper-34Cjf9P0\"><div class=\"index-3cdMSKi7\">1</div><div class=\"value-wrapper-1W5GYs5E\"><div class=\"top-wrapper-1NLTqKbE\"><div><a aria-label=\"Mike Trout\" class=\"bui-link\" href=\"/player/545361\"><span class=\"full-3fV3c9pF\">Mike</span><span class=\"short-3OJ0bTju\">M Trout</span><span class=\"full-3fV3c9pF\">Trout</span></a></div><div class=\"position-28TbwVOg\">CF</div></div></div></div><div class=\"placeholder-wrapper-bEG1UFFP\"><div class=\"index-3cdMSKi7\">1</div><div><span class=\"bui-skeleton\"><span class=\"skeleton-row-2cL12jX9\" style=\"background-color:#eee;background-image:linear-gradient(90deg, #eee, #F5F5F5, #eee);border-radius:50%;width:42px;height:42px\">‌</span></span></div><div class=\"placeholder-content-2l2UMerJ\"><div><span class=\"bui-skeleton\"><span class=\"skeleton-row-2cL12jX9\" style=\"background-color:#eee;background-image:linear-gradient(90deg, #eee, #F5F5F5, #eee);border-radius:4px;width:200px;height:16px\">‌</span></span></div><div><span class=\"bui-skeleton\"><span class=\"skeleton-row-2cL12jX9\" style=\"background-color:#eee;background-image:linear-gradient(90deg, #eee, #F5F5F5, #eee);border-radius:4px;width:100px;height:7px\">‌</span></span></div></div></div></th>"
      ]
     },
     "execution_count": 126,
     "metadata": {},
     "output_type": "execute_result"
    }
   ],
   "source": [
    "name_container = soup.find('th', {'data-row' : 0})\n",
    "name_container"
   ]
  },
  {
   "cell_type": "code",
   "execution_count": 128,
   "metadata": {},
   "outputs": [
    {
     "data": {
      "text/plain": [
       "[<span class=\"full-3fV3c9pF\">Mike</span>,\n",
       " <span class=\"full-3fV3c9pF\">Trout</span>]"
      ]
     },
     "execution_count": 128,
     "metadata": {},
     "output_type": "execute_result"
    }
   ],
   "source": [
    "names = name_container.findAll('span', class_ = 'full-3fV3c9pF')\n",
    "names"
   ]
  },
  {
   "cell_type": "code",
   "execution_count": 75,
   "metadata": {},
   "outputs": [
    {
     "name": "stdout",
     "output_type": "stream",
     "text": [
      "Mike\n",
      "Trout\n"
     ]
    }
   ],
   "source": [
    "for i in range(len(names)):\n",
    "    print(names[i].get_text())"
   ]
  },
  {
   "cell_type": "markdown",
   "metadata": {},
   "source": [
    "Get Name"
   ]
  },
  {
   "cell_type": "code",
   "execution_count": 82,
   "metadata": {},
   "outputs": [
    {
     "name": "stdout",
     "output_type": "stream",
     "text": [
      "Mike Trout\n"
     ]
    }
   ],
   "source": [
    "first = names[0].get_text()\n",
    "last = names[1].get_text()\n",
    "print(first, last)"
   ]
  },
  {
   "cell_type": "code",
   "execution_count": 131,
   "metadata": {},
   "outputs": [
    {
     "data": {
      "text/plain": [
       "'Mike Trout'"
      ]
     },
     "execution_count": 131,
     "metadata": {},
     "output_type": "execute_result"
    }
   ],
   "source": [
    "full_name = first + \" \" + last\n",
    "full_name"
   ]
  },
  {
   "cell_type": "markdown",
   "metadata": {},
   "source": [
    "Get Position"
   ]
  },
  {
   "cell_type": "code",
   "execution_count": 93,
   "metadata": {},
   "outputs": [
    {
     "data": {
      "text/plain": [
       "'CF'"
      ]
     },
     "execution_count": 93,
     "metadata": {},
     "output_type": "execute_result"
    }
   ],
   "source": [
    "name_container.find('div', class_ = 'position-28TbwVOg').get_text()"
   ]
  },
  {
   "cell_type": "markdown",
   "metadata": {},
   "source": [
    "Get Team"
   ]
  },
  {
   "cell_type": "code",
   "execution_count": 105,
   "metadata": {
    "scrolled": true
   },
   "outputs": [
    {
     "data": {
      "text/plain": [
       "'LAA'"
      ]
     },
     "execution_count": 105,
     "metadata": {},
     "output_type": "execute_result"
    }
   ],
   "source": [
    "soup.find('td', {'data-col': '1', 'data-row': '0'}).get_text()"
   ]
  },
  {
   "cell_type": "markdown",
   "metadata": {},
   "source": [
    "Get Games"
   ]
  },
  {
   "cell_type": "code",
   "execution_count": 106,
   "metadata": {},
   "outputs": [
    {
     "data": {
      "text/plain": [
       "'140'"
      ]
     },
     "execution_count": 106,
     "metadata": {},
     "output_type": "execute_result"
    }
   ],
   "source": [
    "soup.find('td', {'data-col': '2', 'data-row': '0'}).get_text()"
   ]
  },
  {
   "cell_type": "markdown",
   "metadata": {},
   "source": [
    "Get At Bats"
   ]
  },
  {
   "cell_type": "code",
   "execution_count": 107,
   "metadata": {},
   "outputs": [
    {
     "data": {
      "text/plain": [
       "'471'"
      ]
     },
     "execution_count": 107,
     "metadata": {},
     "output_type": "execute_result"
    }
   ],
   "source": [
    "soup.find('td', {'data-col': '3', 'data-row': '0'}).get_text()"
   ]
  },
  {
   "cell_type": "markdown",
   "metadata": {},
   "source": [
    "Get Runs"
   ]
  },
  {
   "cell_type": "code",
   "execution_count": 109,
   "metadata": {},
   "outputs": [
    {
     "data": {
      "text/plain": [
       "'101'"
      ]
     },
     "execution_count": 109,
     "metadata": {},
     "output_type": "execute_result"
    }
   ],
   "source": [
    "soup.find('td', {'data-col': '4', 'data-row': '0'}).get_text()"
   ]
  },
  {
   "cell_type": "markdown",
   "metadata": {},
   "source": [
    "Get Hits"
   ]
  },
  {
   "cell_type": "code",
   "execution_count": 111,
   "metadata": {},
   "outputs": [
    {
     "data": {
      "text/plain": [
       "'147'"
      ]
     },
     "execution_count": 111,
     "metadata": {},
     "output_type": "execute_result"
    }
   ],
   "source": [
    "soup.find('td', {'data-col': '5', 'data-row': '0'}).get_text()"
   ]
  },
  {
   "cell_type": "markdown",
   "metadata": {},
   "source": [
    "Get Doubles"
   ]
  },
  {
   "cell_type": "code",
   "execution_count": 113,
   "metadata": {},
   "outputs": [
    {
     "data": {
      "text/plain": [
       "'24'"
      ]
     },
     "execution_count": 113,
     "metadata": {},
     "output_type": "execute_result"
    }
   ],
   "source": [
    "soup.find('td', {'data-col': '6', 'data-row': '0'}).get_text()"
   ]
  },
  {
   "cell_type": "markdown",
   "metadata": {},
   "source": [
    "Get Triples"
   ]
  },
  {
   "cell_type": "code",
   "execution_count": 114,
   "metadata": {},
   "outputs": [
    {
     "data": {
      "text/plain": [
       "'4'"
      ]
     },
     "execution_count": 114,
     "metadata": {},
     "output_type": "execute_result"
    }
   ],
   "source": [
    "soup.find('td', {'data-col': '7', 'data-row': '0'}).get_text()"
   ]
  },
  {
   "cell_type": "markdown",
   "metadata": {},
   "source": [
    "Get Homeruns"
   ]
  },
  {
   "cell_type": "code",
   "execution_count": 115,
   "metadata": {},
   "outputs": [
    {
     "data": {
      "text/plain": [
       "'39'"
      ]
     },
     "execution_count": 115,
     "metadata": {},
     "output_type": "execute_result"
    }
   ],
   "source": [
    "soup.find('td', {'data-col': '8', 'data-row': '0'}).get_text()"
   ]
  },
  {
   "cell_type": "markdown",
   "metadata": {},
   "source": [
    "Get RBIs"
   ]
  },
  {
   "cell_type": "code",
   "execution_count": 116,
   "metadata": {},
   "outputs": [
    {
     "data": {
      "text/plain": [
       "'79'"
      ]
     },
     "execution_count": 116,
     "metadata": {},
     "output_type": "execute_result"
    }
   ],
   "source": [
    "soup.find('td', {'data-col': '9', 'data-row': '0'}).get_text()"
   ]
  },
  {
   "cell_type": "markdown",
   "metadata": {},
   "source": [
    "Get Walks"
   ]
  },
  {
   "cell_type": "code",
   "execution_count": 117,
   "metadata": {},
   "outputs": [
    {
     "data": {
      "text/plain": [
       "'122'"
      ]
     },
     "execution_count": 117,
     "metadata": {},
     "output_type": "execute_result"
    }
   ],
   "source": [
    "soup.find('td', {'data-col': '10', 'data-row': '0'}).get_text()"
   ]
  },
  {
   "cell_type": "markdown",
   "metadata": {},
   "source": [
    "Get Strikeouts"
   ]
  },
  {
   "cell_type": "code",
   "execution_count": 118,
   "metadata": {},
   "outputs": [
    {
     "data": {
      "text/plain": [
       "'124'"
      ]
     },
     "execution_count": 118,
     "metadata": {},
     "output_type": "execute_result"
    }
   ],
   "source": [
    "soup.find('td', {'data-col': '11', 'data-row': '0'}).get_text()"
   ]
  },
  {
   "cell_type": "markdown",
   "metadata": {},
   "source": [
    "Get Stolen Bases"
   ]
  },
  {
   "cell_type": "code",
   "execution_count": 119,
   "metadata": {},
   "outputs": [
    {
     "data": {
      "text/plain": [
       "'24'"
      ]
     },
     "execution_count": 119,
     "metadata": {},
     "output_type": "execute_result"
    }
   ],
   "source": [
    "soup.find('td', {'data-col': '12', 'data-row': '0'}).get_text()"
   ]
  },
  {
   "cell_type": "markdown",
   "metadata": {},
   "source": [
    "Get Caught Stealing"
   ]
  },
  {
   "cell_type": "code",
   "execution_count": 120,
   "metadata": {},
   "outputs": [
    {
     "data": {
      "text/plain": [
       "'2'"
      ]
     },
     "execution_count": 120,
     "metadata": {},
     "output_type": "execute_result"
    }
   ],
   "source": [
    "soup.find('td', {'data-col': '13', 'data-row': '0'}).get_text()"
   ]
  },
  {
   "cell_type": "markdown",
   "metadata": {},
   "source": [
    "Get Batting Average"
   ]
  },
  {
   "cell_type": "code",
   "execution_count": 121,
   "metadata": {},
   "outputs": [
    {
     "data": {
      "text/plain": [
       "'.312'"
      ]
     },
     "execution_count": 121,
     "metadata": {},
     "output_type": "execute_result"
    }
   ],
   "source": [
    "soup.find('td', {'data-col': '14', 'data-row': '0'}).get_text()"
   ]
  },
  {
   "cell_type": "markdown",
   "metadata": {},
   "source": [
    "Get On Base Percentage"
   ]
  },
  {
   "cell_type": "code",
   "execution_count": 122,
   "metadata": {},
   "outputs": [
    {
     "data": {
      "text/plain": [
       "'.460'"
      ]
     },
     "execution_count": 122,
     "metadata": {},
     "output_type": "execute_result"
    }
   ],
   "source": [
    "soup.find('td', {'data-col': '15', 'data-row': '0'}).get_text()"
   ]
  },
  {
   "cell_type": "markdown",
   "metadata": {},
   "source": [
    "Get Slugging Percentage"
   ]
  },
  {
   "cell_type": "code",
   "execution_count": 123,
   "metadata": {},
   "outputs": [
    {
     "data": {
      "text/plain": [
       "'.628'"
      ]
     },
     "execution_count": 123,
     "metadata": {},
     "output_type": "execute_result"
    }
   ],
   "source": [
    "soup.find('td', {'data-col': '16', 'data-row': '0'}).get_text()"
   ]
  },
  {
   "cell_type": "markdown",
   "metadata": {},
   "source": [
    "Get On Base Plus Slugging Percentage"
   ]
  },
  {
   "cell_type": "code",
   "execution_count": 124,
   "metadata": {},
   "outputs": [
    {
     "data": {
      "text/plain": [
       "'1.088'"
      ]
     },
     "execution_count": 124,
     "metadata": {},
     "output_type": "execute_result"
    }
   ],
   "source": [
    "soup.find('td', {'data-col': '17', 'data-row': '0'}).get_text()"
   ]
  },
  {
   "cell_type": "code",
   "execution_count": 190,
   "metadata": {},
   "outputs": [
    {
     "data": {
      "text/html": [
       "<div>\n",
       "<style scoped>\n",
       "    .dataframe tbody tr th:only-of-type {\n",
       "        vertical-align: middle;\n",
       "    }\n",
       "\n",
       "    .dataframe tbody tr th {\n",
       "        vertical-align: top;\n",
       "    }\n",
       "\n",
       "    .dataframe thead th {\n",
       "        text-align: right;\n",
       "    }\n",
       "</style>\n",
       "<table border=\"1\" class=\"dataframe\">\n",
       "  <thead>\n",
       "    <tr style=\"text-align: right;\">\n",
       "      <th></th>\n",
       "      <th>FirstName</th>\n",
       "      <th>LastName</th>\n",
       "      <th>FullName</th>\n",
       "      <th>Position</th>\n",
       "      <th>Team</th>\n",
       "      <th>Games</th>\n",
       "      <th>At_Bats</th>\n",
       "      <th>Runs</th>\n",
       "      <th>Hits</th>\n",
       "      <th>Doubles</th>\n",
       "      <th>Triples</th>\n",
       "      <th>Homeruns</th>\n",
       "      <th>RBIs</th>\n",
       "      <th>Walks</th>\n",
       "      <th>Strikeouts</th>\n",
       "      <th>StolenBases</th>\n",
       "      <th>CaughtStealing</th>\n",
       "      <th>BattingAverage</th>\n",
       "      <th>OnBasePercentage</th>\n",
       "      <th>SluggingPercentage</th>\n",
       "      <th>OnBaseSluggingPercent</th>\n",
       "    </tr>\n",
       "  </thead>\n",
       "  <tbody>\n",
       "  </tbody>\n",
       "</table>\n",
       "</div>"
      ],
      "text/plain": [
       "Empty DataFrame\n",
       "Columns: [FirstName, LastName, FullName, Position, Team, Games, At_Bats, Runs, Hits, Doubles, Triples, Homeruns, RBIs, Walks, Strikeouts, StolenBases, CaughtStealing, BattingAverage, OnBasePercentage, SluggingPercentage, OnBaseSluggingPercent]\n",
       "Index: []"
      ]
     },
     "execution_count": 190,
     "metadata": {},
     "output_type": "execute_result"
    }
   ],
   "source": [
    "df = pd.DataFrame(columns = ['FirstName', 'LastName', 'FullName', 'Position', 'Team', 'Games', 'At_Bats', 'Runs', \n",
    "                             'Hits', 'Doubles', 'Triples', 'Homeruns', 'RBIs', 'Walks', 'Strikeouts', 'StolenBases', \n",
    "                            'CaughtStealing', 'BattingAverage', 'OnBasePercentage', 'SluggingPercentage', \n",
    "                            'OnBaseSluggingPercent'])\n",
    "df"
   ]
  },
  {
   "cell_type": "code",
   "execution_count": 132,
   "metadata": {},
   "outputs": [],
   "source": [
    "def get_first_name(data_row):\n",
    "    soup.find('th', {'data-row' : data_row})\n",
    "    names = container.findAll('span', class_ = 'full-3fV3c9pF')\n",
    "    first_name = names[0].get_text()\n",
    "    last_name = names[1].get_text()\n",
    "    full_name = first_name + ' ' + last_name\n",
    "    return first_name, last_name, full_name"
   ]
  },
  {
   "cell_type": "code",
   "execution_count": 134,
   "metadata": {},
   "outputs": [],
   "source": [
    "def get_position(data_row):\n",
    "    container = soup.find('th', {'data-row' : data_row})\n",
    "    position = container.find('div', class_ = 'position-28TbwVOg').get_text()\n",
    "    return position"
   ]
  },
  {
   "cell_type": "code",
   "execution_count": 137,
   "metadata": {},
   "outputs": [],
   "source": [
    "def get_team(data_row):\n",
    "    team = soup.find('td', {'data-col': '1', 'data-row': data_row}).get_text()\n",
    "    return team"
   ]
  },
  {
   "cell_type": "code",
   "execution_count": 139,
   "metadata": {},
   "outputs": [],
   "source": [
    "def get_games(data_row):\n",
    "    games = soup.find('td', {'data-col': '2', 'data-row': data_row}).get_text()\n",
    "    return games"
   ]
  },
  {
   "cell_type": "code",
   "execution_count": 141,
   "metadata": {},
   "outputs": [],
   "source": [
    "def get_atbats(data_row):\n",
    "    at_bats = soup.find('td', {'data-col': '3', 'data-row': data_row}).get_text()\n",
    "    return at_bats"
   ]
  },
  {
   "cell_type": "code",
   "execution_count": 143,
   "metadata": {},
   "outputs": [],
   "source": [
    "def get_runs(data_row):\n",
    "    runs = soup.find('td', {'data-col': '4', 'data-row': data_row}).get_text()\n",
    "    return runs"
   ]
  },
  {
   "cell_type": "code",
   "execution_count": 145,
   "metadata": {},
   "outputs": [],
   "source": [
    "def get_hits(data_row):\n",
    "    hits = soup.find('td', {'data-col': '5', 'data-row': data_row}).get_text()\n",
    "    return hits"
   ]
  },
  {
   "cell_type": "code",
   "execution_count": 148,
   "metadata": {},
   "outputs": [],
   "source": [
    "def get_doubles(data_row):\n",
    "    doubles = soup.find('td', {'data-col': '6', 'data-row': data_row}).get_text()\n",
    "    return doubles"
   ]
  },
  {
   "cell_type": "code",
   "execution_count": 150,
   "metadata": {},
   "outputs": [],
   "source": [
    "def get_triples(data_row):\n",
    "    triples = soup.find('td', {'data-col': '7', 'data-row': data_row}).get_text()\n",
    "    return triples"
   ]
  },
  {
   "cell_type": "code",
   "execution_count": 152,
   "metadata": {},
   "outputs": [],
   "source": [
    "def get_homeruns(data_row):\n",
    "    homeruns = soup.find('td', {'data-col': '8', 'data-row': data_row}).get_text()\n",
    "    return homeruns"
   ]
  },
  {
   "cell_type": "code",
   "execution_count": 154,
   "metadata": {},
   "outputs": [],
   "source": [
    "def get_rbis(data_row):\n",
    "    rbis = soup.find('td', {'data-col': '9', 'data-row': data_row}).get_text()\n",
    "    return rbis"
   ]
  },
  {
   "cell_type": "code",
   "execution_count": 156,
   "metadata": {},
   "outputs": [],
   "source": [
    "def get_walks(data_row):\n",
    "    walks = soup.find('td', {'data-col': '10', 'data-row': data_row}).get_text()\n",
    "    return walks"
   ]
  },
  {
   "cell_type": "code",
   "execution_count": 158,
   "metadata": {},
   "outputs": [],
   "source": [
    "def get_strikeouts(data_row):\n",
    "    strikeouts = soup.find('td', {'data-col': '11', 'data-row': data_row}).get_text()\n",
    "    return strikeouts"
   ]
  },
  {
   "cell_type": "code",
   "execution_count": 160,
   "metadata": {},
   "outputs": [],
   "source": [
    "def get_stolenbases(data_row):\n",
    "    stolenbases = soup.find('td', {'data-col': '12', 'data-row': data_row}).get_text()\n",
    "    return stolenbases"
   ]
  },
  {
   "cell_type": "code",
   "execution_count": 162,
   "metadata": {},
   "outputs": [],
   "source": [
    "def get_caughtstealing(data_row):\n",
    "    caughtstealing = soup.find('td', {'data-col': '13', 'data-row': data_row}).get_text()\n",
    "    return caughtstealing"
   ]
  },
  {
   "cell_type": "code",
   "execution_count": 164,
   "metadata": {},
   "outputs": [],
   "source": [
    "def get_battingavg(data_row):\n",
    "    battingavg = soup.find('td', {'data-col': '14', 'data-row': data_row}).get_text()\n",
    "    return battingavg"
   ]
  },
  {
   "cell_type": "code",
   "execution_count": 166,
   "metadata": {},
   "outputs": [],
   "source": [
    "def get_onbasepercent(data_row):\n",
    "    onbasepercent = soup.find('td', {'data-col': '15', 'data-row': data_row}).get_text()\n",
    "    return onbasepercent"
   ]
  },
  {
   "cell_type": "code",
   "execution_count": 167,
   "metadata": {},
   "outputs": [],
   "source": [
    "def get_sluggingpercent(data_row):\n",
    "    sluggingpercent = soup.find('td', {'data-col': '16', 'data-row': data_row}).get_text()\n",
    "    return sluggingpercent"
   ]
  },
  {
   "cell_type": "code",
   "execution_count": 168,
   "metadata": {},
   "outputs": [],
   "source": [
    "def get_onbaseslugging(data_row):\n",
    "    onbaseslugging = soup.find('td', {'data-col': '17', 'data-row': data_row}).get_text()\n",
    "    return onbaseslugging"
   ]
  },
  {
   "cell_type": "code",
   "execution_count": 201,
   "metadata": {},
   "outputs": [],
   "source": [
    "def get_page(webpage):\n",
    "    html = requests.get(webpage)\n",
    "    soup = BeautifulSoup(html.content, 'html.parser')\n",
    "    return soup"
   ]
  },
  {
   "cell_type": "code",
   "execution_count": 202,
   "metadata": {},
   "outputs": [],
   "source": [
    "players_on_page = range(25)\n",
    "\n",
    "def get_contents(webpage):\n",
    "    soup = get_page(webpage)\n",
    "    \n",
    "    for i in players_on_page:\n",
    "        first_name, last_name, full_name = get_first_name(i)\n",
    "        position = get_position(i)\n",
    "        team = get_team(i)\n",
    "        games = get_games(i)\n",
    "        at_bats = get_atbats(i)\n",
    "        runs = get_runs(i)\n",
    "        hits = get_hits(i)\n",
    "        doubles = get_doubles(i)\n",
    "        triples = get_triples(i)\n",
    "        homeruns = get_homeruns(i)\n",
    "        rbis = get_rbis(i)\n",
    "        walks = get_walks(i)\n",
    "        strikeouts = get_strikeouts(i)\n",
    "        stolenbases = get_stolenbases(i)\n",
    "        caughtstealing = get_caughtstealing(i)\n",
    "        battingavg = get_battingavg(i)\n",
    "        onbasepercent = get_onbasepercent(i)\n",
    "        slugging = get_sluggingpercent(i)\n",
    "        onbaseslug = get_onbaseslugging(i)\n",
    "        \n",
    "        global df\n",
    "        df = df.append({'FirstName': first_name, \n",
    "                       'LastName': last_name,\n",
    "                       'FullName': full_name, \n",
    "                       'Position': position, \n",
    "                       'Team': team,\n",
    "                       'Games': games,\n",
    "                       'At_Bats': at_bats,\n",
    "                       'Runs': runs,\n",
    "                       'Hits': hits,\n",
    "                       'Doubles': doubles,\n",
    "                       'Triples': triples,\n",
    "                       'Homeruns': homeruns,\n",
    "                       'RBIs': rbis,\n",
    "                       'Walks': walks,\n",
    "                       'Strikeouts': strikeouts,\n",
    "                       'StolenBases': stolenbases,\n",
    "                       'CaughStealing': caughtstealing,\n",
    "                       'BattingAverage': battingavg,\n",
    "                       'OnBasePercentage': onbasepercent,\n",
    "                       'SluggingPercentage': slugging,\n",
    "                       'OnBaseSluggingPercent': onbaseslug}, ignore_index=True)"
   ]
  },
  {
   "cell_type": "code",
   "execution_count": 191,
   "metadata": {},
   "outputs": [],
   "source": [
    "first_url = 'https://www.mlb.com/stats/2018?playerPool=ALL'"
   ]
  },
  {
   "cell_type": "code",
   "execution_count": 192,
   "metadata": {},
   "outputs": [],
   "source": [
    "get_contents(first_url)"
   ]
  },
  {
   "cell_type": "code",
   "execution_count": 193,
   "metadata": {},
   "outputs": [
    {
     "data": {
      "text/html": [
       "<div>\n",
       "<style scoped>\n",
       "    .dataframe tbody tr th:only-of-type {\n",
       "        vertical-align: middle;\n",
       "    }\n",
       "\n",
       "    .dataframe tbody tr th {\n",
       "        vertical-align: top;\n",
       "    }\n",
       "\n",
       "    .dataframe thead th {\n",
       "        text-align: right;\n",
       "    }\n",
       "</style>\n",
       "<table border=\"1\" class=\"dataframe\">\n",
       "  <thead>\n",
       "    <tr style=\"text-align: right;\">\n",
       "      <th></th>\n",
       "      <th>FirstName</th>\n",
       "      <th>LastName</th>\n",
       "      <th>FullName</th>\n",
       "      <th>Position</th>\n",
       "      <th>Team</th>\n",
       "      <th>Games</th>\n",
       "      <th>At_Bats</th>\n",
       "      <th>Runs</th>\n",
       "      <th>Hits</th>\n",
       "      <th>Doubles</th>\n",
       "      <th>Triples</th>\n",
       "      <th>Homeruns</th>\n",
       "      <th>RBIs</th>\n",
       "      <th>Walks</th>\n",
       "      <th>Strikeouts</th>\n",
       "      <th>StolenBases</th>\n",
       "      <th>CaughtStealing</th>\n",
       "      <th>BattingAverage</th>\n",
       "      <th>OnBasePercentage</th>\n",
       "      <th>SluggingPercentage</th>\n",
       "      <th>OnBaseSluggingPercent</th>\n",
       "      <th>CaughStealing</th>\n",
       "    </tr>\n",
       "  </thead>\n",
       "  <tbody>\n",
       "    <tr>\n",
       "      <th>0</th>\n",
       "      <td>Mike</td>\n",
       "      <td>Trout</td>\n",
       "      <td>Mike Trout</td>\n",
       "      <td>CF</td>\n",
       "      <td>LAA</td>\n",
       "      <td>140</td>\n",
       "      <td>471</td>\n",
       "      <td>101</td>\n",
       "      <td>147</td>\n",
       "      <td>24</td>\n",
       "      <td>4</td>\n",
       "      <td>39</td>\n",
       "      <td>79</td>\n",
       "      <td>122</td>\n",
       "      <td>124</td>\n",
       "      <td>24</td>\n",
       "      <td>NaN</td>\n",
       "      <td>.312</td>\n",
       "      <td>.460</td>\n",
       "      <td>.628</td>\n",
       "      <td>1.088</td>\n",
       "      <td>2</td>\n",
       "    </tr>\n",
       "    <tr>\n",
       "      <th>1</th>\n",
       "      <td>Mookie</td>\n",
       "      <td>Betts</td>\n",
       "      <td>Mookie Betts</td>\n",
       "      <td>RF</td>\n",
       "      <td>BOS</td>\n",
       "      <td>136</td>\n",
       "      <td>520</td>\n",
       "      <td>129</td>\n",
       "      <td>180</td>\n",
       "      <td>47</td>\n",
       "      <td>5</td>\n",
       "      <td>32</td>\n",
       "      <td>80</td>\n",
       "      <td>81</td>\n",
       "      <td>91</td>\n",
       "      <td>30</td>\n",
       "      <td>NaN</td>\n",
       "      <td>.346</td>\n",
       "      <td>.438</td>\n",
       "      <td>.640</td>\n",
       "      <td>1.078</td>\n",
       "      <td>6</td>\n",
       "    </tr>\n",
       "    <tr>\n",
       "      <th>2</th>\n",
       "      <td>J.D.</td>\n",
       "      <td>Martinez</td>\n",
       "      <td>J.D. Martinez</td>\n",
       "      <td>LF</td>\n",
       "      <td>BOS</td>\n",
       "      <td>150</td>\n",
       "      <td>569</td>\n",
       "      <td>111</td>\n",
       "      <td>188</td>\n",
       "      <td>37</td>\n",
       "      <td>2</td>\n",
       "      <td>43</td>\n",
       "      <td>130</td>\n",
       "      <td>69</td>\n",
       "      <td>146</td>\n",
       "      <td>6</td>\n",
       "      <td>NaN</td>\n",
       "      <td>.330</td>\n",
       "      <td>.402</td>\n",
       "      <td>.629</td>\n",
       "      <td>1.031</td>\n",
       "      <td>1</td>\n",
       "    </tr>\n",
       "    <tr>\n",
       "      <th>3</th>\n",
       "      <td>Christian</td>\n",
       "      <td>Yelich</td>\n",
       "      <td>Christian Yelich</td>\n",
       "      <td>RF</td>\n",
       "      <td>MIL</td>\n",
       "      <td>147</td>\n",
       "      <td>574</td>\n",
       "      <td>118</td>\n",
       "      <td>187</td>\n",
       "      <td>34</td>\n",
       "      <td>7</td>\n",
       "      <td>36</td>\n",
       "      <td>110</td>\n",
       "      <td>68</td>\n",
       "      <td>135</td>\n",
       "      <td>22</td>\n",
       "      <td>NaN</td>\n",
       "      <td>.326</td>\n",
       "      <td>.402</td>\n",
       "      <td>.598</td>\n",
       "      <td>1.000</td>\n",
       "      <td>4</td>\n",
       "    </tr>\n",
       "    <tr>\n",
       "      <th>4</th>\n",
       "      <td>Jose</td>\n",
       "      <td>Ramirez</td>\n",
       "      <td>Jose Ramirez</td>\n",
       "      <td>3B</td>\n",
       "      <td>CLE</td>\n",
       "      <td>157</td>\n",
       "      <td>578</td>\n",
       "      <td>110</td>\n",
       "      <td>156</td>\n",
       "      <td>38</td>\n",
       "      <td>4</td>\n",
       "      <td>39</td>\n",
       "      <td>105</td>\n",
       "      <td>106</td>\n",
       "      <td>80</td>\n",
       "      <td>34</td>\n",
       "      <td>NaN</td>\n",
       "      <td>.270</td>\n",
       "      <td>.387</td>\n",
       "      <td>.552</td>\n",
       "      <td>.939</td>\n",
       "      <td>6</td>\n",
       "    </tr>\n",
       "    <tr>\n",
       "      <th>5</th>\n",
       "      <td>Nolan</td>\n",
       "      <td>Arenado</td>\n",
       "      <td>Nolan Arenado</td>\n",
       "      <td>3B</td>\n",
       "      <td>COL</td>\n",
       "      <td>156</td>\n",
       "      <td>590</td>\n",
       "      <td>104</td>\n",
       "      <td>175</td>\n",
       "      <td>38</td>\n",
       "      <td>2</td>\n",
       "      <td>38</td>\n",
       "      <td>110</td>\n",
       "      <td>73</td>\n",
       "      <td>122</td>\n",
       "      <td>2</td>\n",
       "      <td>NaN</td>\n",
       "      <td>.297</td>\n",
       "      <td>.374</td>\n",
       "      <td>.561</td>\n",
       "      <td>.934</td>\n",
       "      <td>2</td>\n",
       "    </tr>\n",
       "    <tr>\n",
       "      <th>6</th>\n",
       "      <td>Alex</td>\n",
       "      <td>Bregman</td>\n",
       "      <td>Alex Bregman</td>\n",
       "      <td>3B</td>\n",
       "      <td>HOU</td>\n",
       "      <td>157</td>\n",
       "      <td>594</td>\n",
       "      <td>105</td>\n",
       "      <td>170</td>\n",
       "      <td>51</td>\n",
       "      <td>1</td>\n",
       "      <td>31</td>\n",
       "      <td>103</td>\n",
       "      <td>96</td>\n",
       "      <td>85</td>\n",
       "      <td>10</td>\n",
       "      <td>NaN</td>\n",
       "      <td>.286</td>\n",
       "      <td>.394</td>\n",
       "      <td>.532</td>\n",
       "      <td>.926</td>\n",
       "      <td>4</td>\n",
       "    </tr>\n",
       "    <tr>\n",
       "      <th>7</th>\n",
       "      <td>Paul</td>\n",
       "      <td>Goldschmidt</td>\n",
       "      <td>Paul Goldschmidt</td>\n",
       "      <td>1B</td>\n",
       "      <td>ARI</td>\n",
       "      <td>158</td>\n",
       "      <td>593</td>\n",
       "      <td>95</td>\n",
       "      <td>172</td>\n",
       "      <td>35</td>\n",
       "      <td>5</td>\n",
       "      <td>33</td>\n",
       "      <td>83</td>\n",
       "      <td>90</td>\n",
       "      <td>173</td>\n",
       "      <td>7</td>\n",
       "      <td>NaN</td>\n",
       "      <td>.290</td>\n",
       "      <td>.389</td>\n",
       "      <td>.533</td>\n",
       "      <td>.922</td>\n",
       "      <td>4</td>\n",
       "    </tr>\n",
       "    <tr>\n",
       "      <th>8</th>\n",
       "      <td>Trevor</td>\n",
       "      <td>Story</td>\n",
       "      <td>Trevor Story</td>\n",
       "      <td>SS</td>\n",
       "      <td>COL</td>\n",
       "      <td>157</td>\n",
       "      <td>598</td>\n",
       "      <td>88</td>\n",
       "      <td>174</td>\n",
       "      <td>42</td>\n",
       "      <td>6</td>\n",
       "      <td>37</td>\n",
       "      <td>108</td>\n",
       "      <td>47</td>\n",
       "      <td>168</td>\n",
       "      <td>27</td>\n",
       "      <td>NaN</td>\n",
       "      <td>.291</td>\n",
       "      <td>.348</td>\n",
       "      <td>.567</td>\n",
       "      <td>.914</td>\n",
       "      <td>6</td>\n",
       "    </tr>\n",
       "    <tr>\n",
       "      <th>9</th>\n",
       "      <td>Anthony</td>\n",
       "      <td>Rendon</td>\n",
       "      <td>Anthony Rendon</td>\n",
       "      <td>3B</td>\n",
       "      <td>WSH</td>\n",
       "      <td>136</td>\n",
       "      <td>529</td>\n",
       "      <td>88</td>\n",
       "      <td>163</td>\n",
       "      <td>44</td>\n",
       "      <td>2</td>\n",
       "      <td>24</td>\n",
       "      <td>92</td>\n",
       "      <td>55</td>\n",
       "      <td>82</td>\n",
       "      <td>2</td>\n",
       "      <td>NaN</td>\n",
       "      <td>.308</td>\n",
       "      <td>.374</td>\n",
       "      <td>.535</td>\n",
       "      <td>.908</td>\n",
       "      <td>1</td>\n",
       "    </tr>\n",
       "    <tr>\n",
       "      <th>10</th>\n",
       "      <td>Manny</td>\n",
       "      <td>Machado</td>\n",
       "      <td>Manny Machado</td>\n",
       "      <td>SS</td>\n",
       "      <td>LAD</td>\n",
       "      <td>162</td>\n",
       "      <td>632</td>\n",
       "      <td>84</td>\n",
       "      <td>188</td>\n",
       "      <td>35</td>\n",
       "      <td>3</td>\n",
       "      <td>37</td>\n",
       "      <td>107</td>\n",
       "      <td>70</td>\n",
       "      <td>104</td>\n",
       "      <td>14</td>\n",
       "      <td>NaN</td>\n",
       "      <td>.297</td>\n",
       "      <td>.367</td>\n",
       "      <td>.538</td>\n",
       "      <td>.905</td>\n",
       "      <td>2</td>\n",
       "    </tr>\n",
       "    <tr>\n",
       "      <th>11</th>\n",
       "      <td>Matt</td>\n",
       "      <td>Carpenter</td>\n",
       "      <td>Matt Carpenter</td>\n",
       "      <td>3B</td>\n",
       "      <td>STL</td>\n",
       "      <td>156</td>\n",
       "      <td>564</td>\n",
       "      <td>111</td>\n",
       "      <td>145</td>\n",
       "      <td>42</td>\n",
       "      <td>0</td>\n",
       "      <td>36</td>\n",
       "      <td>81</td>\n",
       "      <td>102</td>\n",
       "      <td>158</td>\n",
       "      <td>4</td>\n",
       "      <td>NaN</td>\n",
       "      <td>.257</td>\n",
       "      <td>.374</td>\n",
       "      <td>.523</td>\n",
       "      <td>.897</td>\n",
       "      <td>1</td>\n",
       "    </tr>\n",
       "    <tr>\n",
       "      <th>12</th>\n",
       "      <td>Freddie</td>\n",
       "      <td>Freeman</td>\n",
       "      <td>Freddie Freeman</td>\n",
       "      <td>1B</td>\n",
       "      <td>ATL</td>\n",
       "      <td>162</td>\n",
       "      <td>618</td>\n",
       "      <td>94</td>\n",
       "      <td>191</td>\n",
       "      <td>44</td>\n",
       "      <td>4</td>\n",
       "      <td>23</td>\n",
       "      <td>98</td>\n",
       "      <td>76</td>\n",
       "      <td>132</td>\n",
       "      <td>10</td>\n",
       "      <td>NaN</td>\n",
       "      <td>.309</td>\n",
       "      <td>.388</td>\n",
       "      <td>.505</td>\n",
       "      <td>.892</td>\n",
       "      <td>3</td>\n",
       "    </tr>\n",
       "    <tr>\n",
       "      <th>13</th>\n",
       "      <td>Eugenio</td>\n",
       "      <td>Suarez</td>\n",
       "      <td>Eugenio Suarez</td>\n",
       "      <td>3B</td>\n",
       "      <td>CIN</td>\n",
       "      <td>143</td>\n",
       "      <td>527</td>\n",
       "      <td>79</td>\n",
       "      <td>149</td>\n",
       "      <td>22</td>\n",
       "      <td>2</td>\n",
       "      <td>34</td>\n",
       "      <td>104</td>\n",
       "      <td>64</td>\n",
       "      <td>142</td>\n",
       "      <td>1</td>\n",
       "      <td>NaN</td>\n",
       "      <td>.283</td>\n",
       "      <td>.366</td>\n",
       "      <td>.526</td>\n",
       "      <td>.892</td>\n",
       "      <td>1</td>\n",
       "    </tr>\n",
       "    <tr>\n",
       "      <th>14</th>\n",
       "      <td>Jesus</td>\n",
       "      <td>Aguilar</td>\n",
       "      <td>Jesus Aguilar</td>\n",
       "      <td>1B</td>\n",
       "      <td>MIL</td>\n",
       "      <td>149</td>\n",
       "      <td>492</td>\n",
       "      <td>80</td>\n",
       "      <td>135</td>\n",
       "      <td>25</td>\n",
       "      <td>0</td>\n",
       "      <td>35</td>\n",
       "      <td>108</td>\n",
       "      <td>58</td>\n",
       "      <td>143</td>\n",
       "      <td>0</td>\n",
       "      <td>NaN</td>\n",
       "      <td>.274</td>\n",
       "      <td>.352</td>\n",
       "      <td>.539</td>\n",
       "      <td>.890</td>\n",
       "      <td>0</td>\n",
       "    </tr>\n",
       "    <tr>\n",
       "      <th>15</th>\n",
       "      <td>Bryce</td>\n",
       "      <td>Harper</td>\n",
       "      <td>Bryce Harper</td>\n",
       "      <td>RF</td>\n",
       "      <td>WSH</td>\n",
       "      <td>159</td>\n",
       "      <td>550</td>\n",
       "      <td>103</td>\n",
       "      <td>137</td>\n",
       "      <td>34</td>\n",
       "      <td>0</td>\n",
       "      <td>34</td>\n",
       "      <td>100</td>\n",
       "      <td>130</td>\n",
       "      <td>169</td>\n",
       "      <td>13</td>\n",
       "      <td>NaN</td>\n",
       "      <td>.249</td>\n",
       "      <td>.393</td>\n",
       "      <td>.496</td>\n",
       "      <td>.889</td>\n",
       "      <td>3</td>\n",
       "    </tr>\n",
       "    <tr>\n",
       "      <th>16</th>\n",
       "      <td>Brandon</td>\n",
       "      <td>Nimmo</td>\n",
       "      <td>Brandon Nimmo</td>\n",
       "      <td>CF</td>\n",
       "      <td>NYM</td>\n",
       "      <td>140</td>\n",
       "      <td>433</td>\n",
       "      <td>77</td>\n",
       "      <td>114</td>\n",
       "      <td>28</td>\n",
       "      <td>8</td>\n",
       "      <td>17</td>\n",
       "      <td>47</td>\n",
       "      <td>80</td>\n",
       "      <td>140</td>\n",
       "      <td>9</td>\n",
       "      <td>NaN</td>\n",
       "      <td>.263</td>\n",
       "      <td>.404</td>\n",
       "      <td>.483</td>\n",
       "      <td>.886</td>\n",
       "      <td>6</td>\n",
       "    </tr>\n",
       "    <tr>\n",
       "      <th>17</th>\n",
       "      <td>Xander</td>\n",
       "      <td>Bogaerts</td>\n",
       "      <td>Xander Bogaerts</td>\n",
       "      <td>SS</td>\n",
       "      <td>BOS</td>\n",
       "      <td>136</td>\n",
       "      <td>513</td>\n",
       "      <td>72</td>\n",
       "      <td>148</td>\n",
       "      <td>45</td>\n",
       "      <td>3</td>\n",
       "      <td>23</td>\n",
       "      <td>103</td>\n",
       "      <td>55</td>\n",
       "      <td>102</td>\n",
       "      <td>8</td>\n",
       "      <td>NaN</td>\n",
       "      <td>.288</td>\n",
       "      <td>.360</td>\n",
       "      <td>.522</td>\n",
       "      <td>.883</td>\n",
       "      <td>2</td>\n",
       "    </tr>\n",
       "    <tr>\n",
       "      <th>18</th>\n",
       "      <td>Javier</td>\n",
       "      <td>Baez</td>\n",
       "      <td>Javier Baez</td>\n",
       "      <td>SS</td>\n",
       "      <td>CHC</td>\n",
       "      <td>160</td>\n",
       "      <td>606</td>\n",
       "      <td>101</td>\n",
       "      <td>176</td>\n",
       "      <td>40</td>\n",
       "      <td>9</td>\n",
       "      <td>34</td>\n",
       "      <td>111</td>\n",
       "      <td>29</td>\n",
       "      <td>167</td>\n",
       "      <td>21</td>\n",
       "      <td>NaN</td>\n",
       "      <td>.290</td>\n",
       "      <td>.326</td>\n",
       "      <td>.554</td>\n",
       "      <td>.880</td>\n",
       "      <td>9</td>\n",
       "    </tr>\n",
       "    <tr>\n",
       "      <th>19</th>\n",
       "      <td>Khris</td>\n",
       "      <td>Davis</td>\n",
       "      <td>Khris Davis</td>\n",
       "      <td>LF</td>\n",
       "      <td>OAK</td>\n",
       "      <td>151</td>\n",
       "      <td>576</td>\n",
       "      <td>98</td>\n",
       "      <td>142</td>\n",
       "      <td>28</td>\n",
       "      <td>1</td>\n",
       "      <td>48</td>\n",
       "      <td>123</td>\n",
       "      <td>59</td>\n",
       "      <td>175</td>\n",
       "      <td>0</td>\n",
       "      <td>NaN</td>\n",
       "      <td>.247</td>\n",
       "      <td>.326</td>\n",
       "      <td>.549</td>\n",
       "      <td>.874</td>\n",
       "      <td>0</td>\n",
       "    </tr>\n",
       "    <tr>\n",
       "      <th>20</th>\n",
       "      <td>Francisco</td>\n",
       "      <td>Lindor</td>\n",
       "      <td>Francisco Lindor</td>\n",
       "      <td>SS</td>\n",
       "      <td>CLE</td>\n",
       "      <td>158</td>\n",
       "      <td>661</td>\n",
       "      <td>129</td>\n",
       "      <td>183</td>\n",
       "      <td>42</td>\n",
       "      <td>2</td>\n",
       "      <td>38</td>\n",
       "      <td>92</td>\n",
       "      <td>70</td>\n",
       "      <td>107</td>\n",
       "      <td>25</td>\n",
       "      <td>NaN</td>\n",
       "      <td>.277</td>\n",
       "      <td>.352</td>\n",
       "      <td>.519</td>\n",
       "      <td>.871</td>\n",
       "      <td>10</td>\n",
       "    </tr>\n",
       "    <tr>\n",
       "      <th>21</th>\n",
       "      <td>David</td>\n",
       "      <td>Peralta</td>\n",
       "      <td>David Peralta</td>\n",
       "      <td>LF</td>\n",
       "      <td>ARI</td>\n",
       "      <td>146</td>\n",
       "      <td>560</td>\n",
       "      <td>75</td>\n",
       "      <td>164</td>\n",
       "      <td>25</td>\n",
       "      <td>5</td>\n",
       "      <td>30</td>\n",
       "      <td>87</td>\n",
       "      <td>48</td>\n",
       "      <td>124</td>\n",
       "      <td>4</td>\n",
       "      <td>NaN</td>\n",
       "      <td>.293</td>\n",
       "      <td>.352</td>\n",
       "      <td>.516</td>\n",
       "      <td>.868</td>\n",
       "      <td>0</td>\n",
       "    </tr>\n",
       "    <tr>\n",
       "      <th>22</th>\n",
       "      <td>Matt</td>\n",
       "      <td>Chapman</td>\n",
       "      <td>Matt Chapman</td>\n",
       "      <td>3B</td>\n",
       "      <td>OAK</td>\n",
       "      <td>145</td>\n",
       "      <td>547</td>\n",
       "      <td>100</td>\n",
       "      <td>152</td>\n",
       "      <td>42</td>\n",
       "      <td>6</td>\n",
       "      <td>24</td>\n",
       "      <td>68</td>\n",
       "      <td>58</td>\n",
       "      <td>146</td>\n",
       "      <td>1</td>\n",
       "      <td>NaN</td>\n",
       "      <td>.278</td>\n",
       "      <td>.356</td>\n",
       "      <td>.508</td>\n",
       "      <td>.864</td>\n",
       "      <td>2</td>\n",
       "    </tr>\n",
       "    <tr>\n",
       "      <th>23</th>\n",
       "      <td>Charlie</td>\n",
       "      <td>Blackmon</td>\n",
       "      <td>Charlie Blackmon</td>\n",
       "      <td>RF</td>\n",
       "      <td>COL</td>\n",
       "      <td>156</td>\n",
       "      <td>626</td>\n",
       "      <td>119</td>\n",
       "      <td>182</td>\n",
       "      <td>31</td>\n",
       "      <td>7</td>\n",
       "      <td>29</td>\n",
       "      <td>70</td>\n",
       "      <td>59</td>\n",
       "      <td>134</td>\n",
       "      <td>12</td>\n",
       "      <td>NaN</td>\n",
       "      <td>.291</td>\n",
       "      <td>.358</td>\n",
       "      <td>.502</td>\n",
       "      <td>.860</td>\n",
       "      <td>4</td>\n",
       "    </tr>\n",
       "    <tr>\n",
       "      <th>24</th>\n",
       "      <td>Mitch</td>\n",
       "      <td>Haniger</td>\n",
       "      <td>Mitch Haniger</td>\n",
       "      <td>RF</td>\n",
       "      <td>SEA</td>\n",
       "      <td>157</td>\n",
       "      <td>596</td>\n",
       "      <td>90</td>\n",
       "      <td>170</td>\n",
       "      <td>38</td>\n",
       "      <td>4</td>\n",
       "      <td>26</td>\n",
       "      <td>93</td>\n",
       "      <td>70</td>\n",
       "      <td>148</td>\n",
       "      <td>8</td>\n",
       "      <td>NaN</td>\n",
       "      <td>.285</td>\n",
       "      <td>.366</td>\n",
       "      <td>.493</td>\n",
       "      <td>.859</td>\n",
       "      <td>2</td>\n",
       "    </tr>\n",
       "  </tbody>\n",
       "</table>\n",
       "</div>"
      ],
      "text/plain": [
       "    FirstName     LastName          FullName Position Team Games At_Bats Runs  \\\n",
       "0        Mike        Trout        Mike Trout       CF  LAA   140     471  101   \n",
       "1      Mookie        Betts      Mookie Betts       RF  BOS   136     520  129   \n",
       "2        J.D.     Martinez     J.D. Martinez       LF  BOS   150     569  111   \n",
       "3   Christian       Yelich  Christian Yelich       RF  MIL   147     574  118   \n",
       "4        Jose      Ramirez      Jose Ramirez       3B  CLE   157     578  110   \n",
       "5       Nolan      Arenado     Nolan Arenado       3B  COL   156     590  104   \n",
       "6        Alex      Bregman      Alex Bregman       3B  HOU   157     594  105   \n",
       "7        Paul  Goldschmidt  Paul Goldschmidt       1B  ARI   158     593   95   \n",
       "8      Trevor        Story      Trevor Story       SS  COL   157     598   88   \n",
       "9     Anthony       Rendon    Anthony Rendon       3B  WSH   136     529   88   \n",
       "10      Manny      Machado     Manny Machado       SS  LAD   162     632   84   \n",
       "11       Matt    Carpenter    Matt Carpenter       3B  STL   156     564  111   \n",
       "12    Freddie      Freeman   Freddie Freeman       1B  ATL   162     618   94   \n",
       "13    Eugenio       Suarez    Eugenio Suarez       3B  CIN   143     527   79   \n",
       "14      Jesus      Aguilar     Jesus Aguilar       1B  MIL   149     492   80   \n",
       "15      Bryce       Harper      Bryce Harper       RF  WSH   159     550  103   \n",
       "16    Brandon        Nimmo     Brandon Nimmo       CF  NYM   140     433   77   \n",
       "17     Xander     Bogaerts   Xander Bogaerts       SS  BOS   136     513   72   \n",
       "18     Javier         Baez       Javier Baez       SS  CHC   160     606  101   \n",
       "19      Khris        Davis       Khris Davis       LF  OAK   151     576   98   \n",
       "20  Francisco       Lindor  Francisco Lindor       SS  CLE   158     661  129   \n",
       "21      David      Peralta     David Peralta       LF  ARI   146     560   75   \n",
       "22       Matt      Chapman      Matt Chapman       3B  OAK   145     547  100   \n",
       "23    Charlie     Blackmon  Charlie Blackmon       RF  COL   156     626  119   \n",
       "24      Mitch      Haniger     Mitch Haniger       RF  SEA   157     596   90   \n",
       "\n",
       "   Hits Doubles Triples Homeruns RBIs Walks Strikeouts StolenBases  \\\n",
       "0   147      24       4       39   79   122        124          24   \n",
       "1   180      47       5       32   80    81         91          30   \n",
       "2   188      37       2       43  130    69        146           6   \n",
       "3   187      34       7       36  110    68        135          22   \n",
       "4   156      38       4       39  105   106         80          34   \n",
       "5   175      38       2       38  110    73        122           2   \n",
       "6   170      51       1       31  103    96         85          10   \n",
       "7   172      35       5       33   83    90        173           7   \n",
       "8   174      42       6       37  108    47        168          27   \n",
       "9   163      44       2       24   92    55         82           2   \n",
       "10  188      35       3       37  107    70        104          14   \n",
       "11  145      42       0       36   81   102        158           4   \n",
       "12  191      44       4       23   98    76        132          10   \n",
       "13  149      22       2       34  104    64        142           1   \n",
       "14  135      25       0       35  108    58        143           0   \n",
       "15  137      34       0       34  100   130        169          13   \n",
       "16  114      28       8       17   47    80        140           9   \n",
       "17  148      45       3       23  103    55        102           8   \n",
       "18  176      40       9       34  111    29        167          21   \n",
       "19  142      28       1       48  123    59        175           0   \n",
       "20  183      42       2       38   92    70        107          25   \n",
       "21  164      25       5       30   87    48        124           4   \n",
       "22  152      42       6       24   68    58        146           1   \n",
       "23  182      31       7       29   70    59        134          12   \n",
       "24  170      38       4       26   93    70        148           8   \n",
       "\n",
       "   CaughtStealing BattingAverage OnBasePercentage SluggingPercentage  \\\n",
       "0             NaN           .312             .460               .628   \n",
       "1             NaN           .346             .438               .640   \n",
       "2             NaN           .330             .402               .629   \n",
       "3             NaN           .326             .402               .598   \n",
       "4             NaN           .270             .387               .552   \n",
       "5             NaN           .297             .374               .561   \n",
       "6             NaN           .286             .394               .532   \n",
       "7             NaN           .290             .389               .533   \n",
       "8             NaN           .291             .348               .567   \n",
       "9             NaN           .308             .374               .535   \n",
       "10            NaN           .297             .367               .538   \n",
       "11            NaN           .257             .374               .523   \n",
       "12            NaN           .309             .388               .505   \n",
       "13            NaN           .283             .366               .526   \n",
       "14            NaN           .274             .352               .539   \n",
       "15            NaN           .249             .393               .496   \n",
       "16            NaN           .263             .404               .483   \n",
       "17            NaN           .288             .360               .522   \n",
       "18            NaN           .290             .326               .554   \n",
       "19            NaN           .247             .326               .549   \n",
       "20            NaN           .277             .352               .519   \n",
       "21            NaN           .293             .352               .516   \n",
       "22            NaN           .278             .356               .508   \n",
       "23            NaN           .291             .358               .502   \n",
       "24            NaN           .285             .366               .493   \n",
       "\n",
       "   OnBaseSluggingPercent CaughStealing  \n",
       "0                  1.088             2  \n",
       "1                  1.078             6  \n",
       "2                  1.031             1  \n",
       "3                  1.000             4  \n",
       "4                   .939             6  \n",
       "5                   .934             2  \n",
       "6                   .926             4  \n",
       "7                   .922             4  \n",
       "8                   .914             6  \n",
       "9                   .908             1  \n",
       "10                  .905             2  \n",
       "11                  .897             1  \n",
       "12                  .892             3  \n",
       "13                  .892             1  \n",
       "14                  .890             0  \n",
       "15                  .889             3  \n",
       "16                  .886             6  \n",
       "17                  .883             2  \n",
       "18                  .880             9  \n",
       "19                  .874             0  \n",
       "20                  .871            10  \n",
       "21                  .868             0  \n",
       "22                  .864             2  \n",
       "23                  .860             4  \n",
       "24                  .859             2  "
      ]
     },
     "execution_count": 193,
     "metadata": {},
     "output_type": "execute_result"
    }
   ],
   "source": [
    "df"
   ]
  },
  {
   "cell_type": "code",
   "execution_count": 194,
   "metadata": {},
   "outputs": [
    {
     "data": {
      "text/plain": [
       "['https://www.mlb.com/stats/2018?page=2&playerPool=ALL',\n",
       " 'https://www.mlb.com/stats/2018?page=3&playerPool=ALL',\n",
       " 'https://www.mlb.com/stats/2018?page=4&playerPool=ALL',\n",
       " 'https://www.mlb.com/stats/2018?page=5&playerPool=ALL',\n",
       " 'https://www.mlb.com/stats/2018?page=6&playerPool=ALL',\n",
       " 'https://www.mlb.com/stats/2018?page=7&playerPool=ALL',\n",
       " 'https://www.mlb.com/stats/2018?page=8&playerPool=ALL',\n",
       " 'https://www.mlb.com/stats/2018?page=9&playerPool=ALL',\n",
       " 'https://www.mlb.com/stats/2018?page=10&playerPool=ALL',\n",
       " 'https://www.mlb.com/stats/2018?page=11&playerPool=ALL',\n",
       " 'https://www.mlb.com/stats/2018?page=12&playerPool=ALL',\n",
       " 'https://www.mlb.com/stats/2018?page=13&playerPool=ALL',\n",
       " 'https://www.mlb.com/stats/2018?page=14&playerPool=ALL',\n",
       " 'https://www.mlb.com/stats/2018?page=15&playerPool=ALL',\n",
       " 'https://www.mlb.com/stats/2018?page=16&playerPool=ALL',\n",
       " 'https://www.mlb.com/stats/2018?page=17&playerPool=ALL',\n",
       " 'https://www.mlb.com/stats/2018?page=18&playerPool=ALL',\n",
       " 'https://www.mlb.com/stats/2018?page=19&playerPool=ALL',\n",
       " 'https://www.mlb.com/stats/2018?page=20&playerPool=ALL',\n",
       " 'https://www.mlb.com/stats/2018?page=21&playerPool=ALL',\n",
       " 'https://www.mlb.com/stats/2018?page=22&playerPool=ALL',\n",
       " 'https://www.mlb.com/stats/2018?page=23&playerPool=ALL',\n",
       " 'https://www.mlb.com/stats/2018?page=24&playerPool=ALL',\n",
       " 'https://www.mlb.com/stats/2018?page=25&playerPool=ALL',\n",
       " 'https://www.mlb.com/stats/2018?page=26&playerPool=ALL',\n",
       " 'https://www.mlb.com/stats/2018?page=27&playerPool=ALL',\n",
       " 'https://www.mlb.com/stats/2018?page=28&playerPool=ALL',\n",
       " 'https://www.mlb.com/stats/2018?page=29&playerPool=ALL',\n",
       " 'https://www.mlb.com/stats/2018?page=30&playerPool=ALL',\n",
       " 'https://www.mlb.com/stats/2018?page=31&playerPool=ALL',\n",
       " 'https://www.mlb.com/stats/2018?page=32&playerPool=ALL',\n",
       " 'https://www.mlb.com/stats/2018?page=33&playerPool=ALL',\n",
       " 'https://www.mlb.com/stats/2018?page=34&playerPool=ALL',\n",
       " 'https://www.mlb.com/stats/2018?page=35&playerPool=ALL',\n",
       " 'https://www.mlb.com/stats/2018?page=36&playerPool=ALL',\n",
       " 'https://www.mlb.com/stats/2018?page=37&playerPool=ALL',\n",
       " 'https://www.mlb.com/stats/2018?page=38&playerPool=ALL',\n",
       " 'https://www.mlb.com/stats/2018?page=39&playerPool=ALL',\n",
       " 'https://www.mlb.com/stats/2018?page=40&playerPool=ALL',\n",
       " 'https://www.mlb.com/stats/2018?page=41&playerPool=ALL',\n",
       " 'https://www.mlb.com/stats/2018?page=42&playerPool=ALL',\n",
       " 'https://www.mlb.com/stats/2018?page=43&playerPool=ALL',\n",
       " 'https://www.mlb.com/stats/2018?page=44&playerPool=ALL',\n",
       " 'https://www.mlb.com/stats/2018?page=45&playerPool=ALL',\n",
       " 'https://www.mlb.com/stats/2018?page=46&playerPool=ALL',\n",
       " 'https://www.mlb.com/stats/2018?page=47&playerPool=ALL',\n",
       " 'https://www.mlb.com/stats/2018?page=48&playerPool=ALL',\n",
       " 'https://www.mlb.com/stats/2018?page=49&playerPool=ALL',\n",
       " 'https://www.mlb.com/stats/2018?page=50&playerPool=ALL',\n",
       " 'https://www.mlb.com/stats/2018?page=51&playerPool=ALL']"
      ]
     },
     "execution_count": 194,
     "metadata": {},
     "output_type": "execute_result"
    }
   ],
   "source": [
    "url_list = []\n",
    "\n",
    "for i in range(2, 52):\n",
    "    url_list.append('https://www.mlb.com/stats/2018?page=' + str(i) + '&playerPool=ALL')\n",
    "\n",
    "url_list"
   ]
  },
  {
   "cell_type": "code",
   "execution_count": 200,
   "metadata": {},
   "outputs": [
    {
     "name": "stdout",
     "output_type": "stream",
     "text": [
      "https://www.mlb.com/stats/2018?page=2&playerPool=ALL\n",
      "https://www.mlb.com/stats/2018?page=3&playerPool=ALL\n",
      "https://www.mlb.com/stats/2018?page=4&playerPool=ALL\n",
      "https://www.mlb.com/stats/2018?page=5&playerPool=ALL\n",
      "https://www.mlb.com/stats/2018?page=6&playerPool=ALL\n",
      "https://www.mlb.com/stats/2018?page=7&playerPool=ALL\n",
      "https://www.mlb.com/stats/2018?page=8&playerPool=ALL\n",
      "https://www.mlb.com/stats/2018?page=9&playerPool=ALL\n",
      "https://www.mlb.com/stats/2018?page=10&playerPool=ALL\n",
      "https://www.mlb.com/stats/2018?page=11&playerPool=ALL\n",
      "https://www.mlb.com/stats/2018?page=12&playerPool=ALL\n",
      "https://www.mlb.com/stats/2018?page=13&playerPool=ALL\n",
      "https://www.mlb.com/stats/2018?page=14&playerPool=ALL\n",
      "https://www.mlb.com/stats/2018?page=15&playerPool=ALL\n",
      "https://www.mlb.com/stats/2018?page=16&playerPool=ALL\n",
      "https://www.mlb.com/stats/2018?page=17&playerPool=ALL\n",
      "https://www.mlb.com/stats/2018?page=18&playerPool=ALL\n",
      "https://www.mlb.com/stats/2018?page=19&playerPool=ALL\n",
      "https://www.mlb.com/stats/2018?page=20&playerPool=ALL\n",
      "https://www.mlb.com/stats/2018?page=21&playerPool=ALL\n",
      "https://www.mlb.com/stats/2018?page=22&playerPool=ALL\n",
      "https://www.mlb.com/stats/2018?page=23&playerPool=ALL\n",
      "https://www.mlb.com/stats/2018?page=24&playerPool=ALL\n",
      "https://www.mlb.com/stats/2018?page=25&playerPool=ALL\n",
      "https://www.mlb.com/stats/2018?page=26&playerPool=ALL\n",
      "https://www.mlb.com/stats/2018?page=27&playerPool=ALL\n",
      "https://www.mlb.com/stats/2018?page=28&playerPool=ALL\n",
      "https://www.mlb.com/stats/2018?page=29&playerPool=ALL\n",
      "https://www.mlb.com/stats/2018?page=30&playerPool=ALL\n",
      "https://www.mlb.com/stats/2018?page=31&playerPool=ALL\n",
      "https://www.mlb.com/stats/2018?page=32&playerPool=ALL\n",
      "https://www.mlb.com/stats/2018?page=33&playerPool=ALL\n",
      "https://www.mlb.com/stats/2018?page=34&playerPool=ALL\n",
      "https://www.mlb.com/stats/2018?page=35&playerPool=ALL\n",
      "https://www.mlb.com/stats/2018?page=36&playerPool=ALL\n",
      "https://www.mlb.com/stats/2018?page=37&playerPool=ALL\n",
      "https://www.mlb.com/stats/2018?page=38&playerPool=ALL\n",
      "https://www.mlb.com/stats/2018?page=39&playerPool=ALL\n",
      "https://www.mlb.com/stats/2018?page=40&playerPool=ALL\n",
      "https://www.mlb.com/stats/2018?page=41&playerPool=ALL\n",
      "https://www.mlb.com/stats/2018?page=42&playerPool=ALL\n",
      "https://www.mlb.com/stats/2018?page=43&playerPool=ALL\n",
      "https://www.mlb.com/stats/2018?page=44&playerPool=ALL\n",
      "https://www.mlb.com/stats/2018?page=45&playerPool=ALL\n",
      "https://www.mlb.com/stats/2018?page=46&playerPool=ALL\n",
      "https://www.mlb.com/stats/2018?page=47&playerPool=ALL\n",
      "https://www.mlb.com/stats/2018?page=48&playerPool=ALL\n",
      "https://www.mlb.com/stats/2018?page=49&playerPool=ALL\n",
      "https://www.mlb.com/stats/2018?page=50&playerPool=ALL\n",
      "https://www.mlb.com/stats/2018?page=51&playerPool=ALL\n"
     ]
    }
   ],
   "source": [
    "for i in url_list:\n",
    "    print(i)\n",
    "#    get_contents(i)"
   ]
  },
  {
   "cell_type": "code",
   "execution_count": 196,
   "metadata": {},
   "outputs": [
    {
     "data": {
      "text/plain": [
       "(1275, 22)"
      ]
     },
     "execution_count": 196,
     "metadata": {},
     "output_type": "execute_result"
    }
   ],
   "source": [
    "df.shape"
   ]
  },
  {
   "cell_type": "code",
   "execution_count": 197,
   "metadata": {},
   "outputs": [
    {
     "data": {
      "text/plain": [
       "(877, 4)"
      ]
     },
     "execution_count": 197,
     "metadata": {},
     "output_type": "execute_result"
    }
   ],
   "source": [
    "salary.shape"
   ]
  },
  {
   "cell_type": "code",
   "execution_count": 198,
   "metadata": {},
   "outputs": [
    {
     "data": {
      "text/plain": [
       "Anthony Rendon      51\n",
       "Khris Davis         51\n",
       "David Peralta       51\n",
       "Francisco Lindor    51\n",
       "Christian Yelich    51\n",
       "Matt Chapman        51\n",
       "Javier Baez         51\n",
       "Charlie Blackmon    51\n",
       "Manny Machado       51\n",
       "Mookie Betts        51\n",
       "Trevor Story        51\n",
       "Jesus Aguilar       51\n",
       "Paul Goldschmidt    51\n",
       "Bryce Harper        51\n",
       "Mitch Haniger       51\n",
       "Matt Carpenter      51\n",
       "Freddie Freeman     51\n",
       "J.D. Martinez       51\n",
       "Mike Trout          51\n",
       "Eugenio Suarez      51\n",
       "Brandon Nimmo       51\n",
       "Alex Bregman        51\n",
       "Nolan Arenado       51\n",
       "Xander Bogaerts     51\n",
       "Jose Ramirez        51\n",
       "Name: FullName, dtype: int64"
      ]
     },
     "execution_count": 198,
     "metadata": {},
     "output_type": "execute_result"
    }
   ],
   "source": [
    "df.FullName.value_counts()"
   ]
  },
  {
   "cell_type": "code",
   "execution_count": null,
   "metadata": {},
   "outputs": [],
   "source": []
  }
 ],
 "metadata": {
  "kernelspec": {
   "display_name": "Python 3",
   "language": "python",
   "name": "python3"
  },
  "language_info": {
   "codemirror_mode": {
    "name": "ipython",
    "version": 3
   },
   "file_extension": ".py",
   "mimetype": "text/x-python",
   "name": "python",
   "nbconvert_exporter": "python",
   "pygments_lexer": "ipython3",
   "version": "3.7.6"
  }
 },
 "nbformat": 4,
 "nbformat_minor": 4
}
